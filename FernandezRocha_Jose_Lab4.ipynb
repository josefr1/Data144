{
  "nbformat": 4,
  "nbformat_minor": 0,
  "metadata": {
    "colab": {
      "provenance": []
    },
    "kernelspec": {
      "name": "python3",
      "display_name": "Python 3"
    }
  },
  "cells": [
    {
      "cell_type": "markdown",
      "metadata": {
        "id": "1xxMXNDF7ckw"
      },
      "source": [
        "## DMA 2023 ##\n",
        "Make sure you fill in any place that says `YOUR CODE HERE` or `YOUR ANSWER HERE`, as well as your name below:"
      ]
    },
    {
      "cell_type": "code",
      "source": [
        "NAME = \"Jose Fernandez-Rocha\""
      ],
      "metadata": {
        "id": "5sdHHukr6mmS"
      },
      "execution_count": 1,
      "outputs": []
    },
    {
      "cell_type": "markdown",
      "metadata": {
        "id": "Oyb_RNpFreOr"
      },
      "source": [
        "# Lab 4: Neural Networks #\n",
        "**Please read the following instructions very carefully**\n",
        "\n",
        "## Working on the assignment / FAQs\n",
        "- **Always use the seed/random_state as *42* wherever applicable** (This is to ensure repeatability in answers, across questions, students and coding environments).\n",
        "- All questions will be graded manually.\n",
        "- Most questions have two cells:\n",
        "  - A code cell for your work/code\n",
        "  - A text cell for giving your final answer\n",
        "- The points each question carries are indicated.\n",
        "- Most assignments have bonus questions for extra credit, do try them out!\n",
        "- **Submitting the assignment** : Download the '.ipynb' and '.pdf' files from Colab and upload them to Gradescope. Do not delete any outputs from cells before submitting. Make sure to assign pages to questions when uploading your PDF to Gradescope.\n",
        "- That's about it. Happy coding!\n",
        "\n",
        "\n",
        "## About the dataset\n",
        "This assignment uses a dataset obtained from the JSE Data Archive that contains biological and self-reported activity traits of a sample of college students at a single university uploaded in 2013. Background Information on the dataset: http://jse.amstat.org/v21n2/froelich/eyecolorgender.txt\n",
        "\n",
        "For this lab, the dataset has already been split into a training set `df_train` and a test set `df_test`.\n"
      ]
    },
    {
      "cell_type": "code",
      "metadata": {
        "id": "yj9Uh79ereOs"
      },
      "source": [
        "import pandas as pd\n",
        "from sklearn.neural_network import MLPClassifier\n",
        "from sklearn.svm import SVC\n",
        "\n",
        "from sklearn.preprocessing import StandardScaler, MinMaxScaler\n",
        "from sklearn.preprocessing import LabelEncoder, OneHotEncoder\n",
        "from sklearn.feature_extraction import DictVectorizer\n",
        "\n",
        "from sklearn.pipeline import Pipeline\n",
        "from sklearn.metrics import accuracy_score\n",
        "from sklearn.model_selection import train_test_split\n",
        "from sklearn.model_selection import GridSearchCV, ParameterGrid\n",
        "\n",
        "import numpy as np\n",
        "\n",
        "import warnings\n",
        "warnings.filterwarnings(\"ignore\")"
      ],
      "execution_count": 2,
      "outputs": []
    },
    {
      "cell_type": "code",
      "metadata": {
        "id": "n6SRFrhfreOt",
        "colab": {
          "base_uri": "https://localhost:8080/",
          "height": 599
        },
        "outputId": "85da2b41-43f7-4fa8-9a9e-37bc0816d892"
      },
      "source": [
        "!wget http://askoski.berkeley.edu/~zp/lab_4_training.csv\n",
        "!wget http://askoski.berkeley.edu/~zp/lab_4_test.csv\n",
        "\n",
        "df_train = pd.read_csv('./lab_4_training.csv')\n",
        "df_test = pd.read_csv('./lab_4_test.csv')\n",
        "df_train.head()"
      ],
      "execution_count": 3,
      "outputs": [
        {
          "output_type": "stream",
          "name": "stdout",
          "text": [
            "--2023-09-26 04:05:05--  http://askoski.berkeley.edu/~zp/lab_4_training.csv\n",
            "Resolving askoski.berkeley.edu (askoski.berkeley.edu)... 169.229.192.179\n",
            "Connecting to askoski.berkeley.edu (askoski.berkeley.edu)|169.229.192.179|:80... connected.\n",
            "HTTP request sent, awaiting response... 200 OK\n",
            "Length: 79177 (77K) [text/csv]\n",
            "Saving to: ‘lab_4_training.csv’\n",
            "\n",
            "lab_4_training.csv  100%[===================>]  77.32K  --.-KB/s    in 0.1s    \n",
            "\n",
            "2023-09-26 04:05:05 (533 KB/s) - ‘lab_4_training.csv’ saved [79177/79177]\n",
            "\n",
            "--2023-09-26 04:05:05--  http://askoski.berkeley.edu/~zp/lab_4_test.csv\n",
            "Resolving askoski.berkeley.edu (askoski.berkeley.edu)... 169.229.192.179\n",
            "Connecting to askoski.berkeley.edu (askoski.berkeley.edu)|169.229.192.179|:80... connected.\n",
            "HTTP request sent, awaiting response... 200 OK\n",
            "Length: 26519 (26K) [text/csv]\n",
            "Saving to: ‘lab_4_test.csv’\n",
            "\n",
            "lab_4_test.csv      100%[===================>]  25.90K  --.-KB/s    in 0.07s   \n",
            "\n",
            "2023-09-26 04:05:05 (368 KB/s) - ‘lab_4_test.csv’ saved [26519/26519]\n",
            "\n"
          ]
        },
        {
          "output_type": "execute_result",
          "data": {
            "text/plain": [
              "   Unnamed: 0  gender  age    year eyecolor  height  miles  brothers  sisters  \\\n",
              "0         577    male   20   third    hazel    72.0  180.0         0        0   \n",
              "1         677    male   19  second    hazel    72.0  120.0         1        1   \n",
              "2        1738    male   20  second    brown    63.0   55.0         1        2   \n",
              "3        1355    male   20   third    green    78.0  200.0         0        0   \n",
              "4         891  female   19  second    green    67.0  280.0         2        0   \n",
              "\n",
              "   computertime exercise  exercisehours  musiccds  playgames  watchtv  \n",
              "0           5.0       No            0.0     100.0       10.0     10.0  \n",
              "1          16.0      Yes            9.0      70.0        3.0      5.0  \n",
              "2          15.0      Yes            4.5      15.0        4.0     13.0  \n",
              "3          10.0      Yes            9.0      20.0       10.0     10.0  \n",
              "4           4.0      Yes            2.0     164.0        0.0      2.0  "
            ],
            "text/html": [
              "\n",
              "  <div id=\"df-5f885cf0-b689-4830-a9b9-f2c7f2e2436d\" class=\"colab-df-container\">\n",
              "    <div>\n",
              "<style scoped>\n",
              "    .dataframe tbody tr th:only-of-type {\n",
              "        vertical-align: middle;\n",
              "    }\n",
              "\n",
              "    .dataframe tbody tr th {\n",
              "        vertical-align: top;\n",
              "    }\n",
              "\n",
              "    .dataframe thead th {\n",
              "        text-align: right;\n",
              "    }\n",
              "</style>\n",
              "<table border=\"1\" class=\"dataframe\">\n",
              "  <thead>\n",
              "    <tr style=\"text-align: right;\">\n",
              "      <th></th>\n",
              "      <th>Unnamed: 0</th>\n",
              "      <th>gender</th>\n",
              "      <th>age</th>\n",
              "      <th>year</th>\n",
              "      <th>eyecolor</th>\n",
              "      <th>height</th>\n",
              "      <th>miles</th>\n",
              "      <th>brothers</th>\n",
              "      <th>sisters</th>\n",
              "      <th>computertime</th>\n",
              "      <th>exercise</th>\n",
              "      <th>exercisehours</th>\n",
              "      <th>musiccds</th>\n",
              "      <th>playgames</th>\n",
              "      <th>watchtv</th>\n",
              "    </tr>\n",
              "  </thead>\n",
              "  <tbody>\n",
              "    <tr>\n",
              "      <th>0</th>\n",
              "      <td>577</td>\n",
              "      <td>male</td>\n",
              "      <td>20</td>\n",
              "      <td>third</td>\n",
              "      <td>hazel</td>\n",
              "      <td>72.0</td>\n",
              "      <td>180.0</td>\n",
              "      <td>0</td>\n",
              "      <td>0</td>\n",
              "      <td>5.0</td>\n",
              "      <td>No</td>\n",
              "      <td>0.0</td>\n",
              "      <td>100.0</td>\n",
              "      <td>10.0</td>\n",
              "      <td>10.0</td>\n",
              "    </tr>\n",
              "    <tr>\n",
              "      <th>1</th>\n",
              "      <td>677</td>\n",
              "      <td>male</td>\n",
              "      <td>19</td>\n",
              "      <td>second</td>\n",
              "      <td>hazel</td>\n",
              "      <td>72.0</td>\n",
              "      <td>120.0</td>\n",
              "      <td>1</td>\n",
              "      <td>1</td>\n",
              "      <td>16.0</td>\n",
              "      <td>Yes</td>\n",
              "      <td>9.0</td>\n",
              "      <td>70.0</td>\n",
              "      <td>3.0</td>\n",
              "      <td>5.0</td>\n",
              "    </tr>\n",
              "    <tr>\n",
              "      <th>2</th>\n",
              "      <td>1738</td>\n",
              "      <td>male</td>\n",
              "      <td>20</td>\n",
              "      <td>second</td>\n",
              "      <td>brown</td>\n",
              "      <td>63.0</td>\n",
              "      <td>55.0</td>\n",
              "      <td>1</td>\n",
              "      <td>2</td>\n",
              "      <td>15.0</td>\n",
              "      <td>Yes</td>\n",
              "      <td>4.5</td>\n",
              "      <td>15.0</td>\n",
              "      <td>4.0</td>\n",
              "      <td>13.0</td>\n",
              "    </tr>\n",
              "    <tr>\n",
              "      <th>3</th>\n",
              "      <td>1355</td>\n",
              "      <td>male</td>\n",
              "      <td>20</td>\n",
              "      <td>third</td>\n",
              "      <td>green</td>\n",
              "      <td>78.0</td>\n",
              "      <td>200.0</td>\n",
              "      <td>0</td>\n",
              "      <td>0</td>\n",
              "      <td>10.0</td>\n",
              "      <td>Yes</td>\n",
              "      <td>9.0</td>\n",
              "      <td>20.0</td>\n",
              "      <td>10.0</td>\n",
              "      <td>10.0</td>\n",
              "    </tr>\n",
              "    <tr>\n",
              "      <th>4</th>\n",
              "      <td>891</td>\n",
              "      <td>female</td>\n",
              "      <td>19</td>\n",
              "      <td>second</td>\n",
              "      <td>green</td>\n",
              "      <td>67.0</td>\n",
              "      <td>280.0</td>\n",
              "      <td>2</td>\n",
              "      <td>0</td>\n",
              "      <td>4.0</td>\n",
              "      <td>Yes</td>\n",
              "      <td>2.0</td>\n",
              "      <td>164.0</td>\n",
              "      <td>0.0</td>\n",
              "      <td>2.0</td>\n",
              "    </tr>\n",
              "  </tbody>\n",
              "</table>\n",
              "</div>\n",
              "    <div class=\"colab-df-buttons\">\n",
              "\n",
              "  <div class=\"colab-df-container\">\n",
              "    <button class=\"colab-df-convert\" onclick=\"convertToInteractive('df-5f885cf0-b689-4830-a9b9-f2c7f2e2436d')\"\n",
              "            title=\"Convert this dataframe to an interactive table.\"\n",
              "            style=\"display:none;\">\n",
              "\n",
              "  <svg xmlns=\"http://www.w3.org/2000/svg\" height=\"24px\" viewBox=\"0 -960 960 960\">\n",
              "    <path d=\"M120-120v-720h720v720H120Zm60-500h600v-160H180v160Zm220 220h160v-160H400v160Zm0 220h160v-160H400v160ZM180-400h160v-160H180v160Zm440 0h160v-160H620v160ZM180-180h160v-160H180v160Zm440 0h160v-160H620v160Z\"/>\n",
              "  </svg>\n",
              "    </button>\n",
              "\n",
              "  <style>\n",
              "    .colab-df-container {\n",
              "      display:flex;\n",
              "      gap: 12px;\n",
              "    }\n",
              "\n",
              "    .colab-df-convert {\n",
              "      background-color: #E8F0FE;\n",
              "      border: none;\n",
              "      border-radius: 50%;\n",
              "      cursor: pointer;\n",
              "      display: none;\n",
              "      fill: #1967D2;\n",
              "      height: 32px;\n",
              "      padding: 0 0 0 0;\n",
              "      width: 32px;\n",
              "    }\n",
              "\n",
              "    .colab-df-convert:hover {\n",
              "      background-color: #E2EBFA;\n",
              "      box-shadow: 0px 1px 2px rgba(60, 64, 67, 0.3), 0px 1px 3px 1px rgba(60, 64, 67, 0.15);\n",
              "      fill: #174EA6;\n",
              "    }\n",
              "\n",
              "    .colab-df-buttons div {\n",
              "      margin-bottom: 4px;\n",
              "    }\n",
              "\n",
              "    [theme=dark] .colab-df-convert {\n",
              "      background-color: #3B4455;\n",
              "      fill: #D2E3FC;\n",
              "    }\n",
              "\n",
              "    [theme=dark] .colab-df-convert:hover {\n",
              "      background-color: #434B5C;\n",
              "      box-shadow: 0px 1px 3px 1px rgba(0, 0, 0, 0.15);\n",
              "      filter: drop-shadow(0px 1px 2px rgba(0, 0, 0, 0.3));\n",
              "      fill: #FFFFFF;\n",
              "    }\n",
              "  </style>\n",
              "\n",
              "    <script>\n",
              "      const buttonEl =\n",
              "        document.querySelector('#df-5f885cf0-b689-4830-a9b9-f2c7f2e2436d button.colab-df-convert');\n",
              "      buttonEl.style.display =\n",
              "        google.colab.kernel.accessAllowed ? 'block' : 'none';\n",
              "\n",
              "      async function convertToInteractive(key) {\n",
              "        const element = document.querySelector('#df-5f885cf0-b689-4830-a9b9-f2c7f2e2436d');\n",
              "        const dataTable =\n",
              "          await google.colab.kernel.invokeFunction('convertToInteractive',\n",
              "                                                    [key], {});\n",
              "        if (!dataTable) return;\n",
              "\n",
              "        const docLinkHtml = 'Like what you see? Visit the ' +\n",
              "          '<a target=\"_blank\" href=https://colab.research.google.com/notebooks/data_table.ipynb>data table notebook</a>'\n",
              "          + ' to learn more about interactive tables.';\n",
              "        element.innerHTML = '';\n",
              "        dataTable['output_type'] = 'display_data';\n",
              "        await google.colab.output.renderOutput(dataTable, element);\n",
              "        const docLink = document.createElement('div');\n",
              "        docLink.innerHTML = docLinkHtml;\n",
              "        element.appendChild(docLink);\n",
              "      }\n",
              "    </script>\n",
              "  </div>\n",
              "\n",
              "\n",
              "<div id=\"df-15df1bc6-5e9d-43cd-a9ac-12687abc531a\">\n",
              "  <button class=\"colab-df-quickchart\" onclick=\"quickchart('df-15df1bc6-5e9d-43cd-a9ac-12687abc531a')\"\n",
              "            title=\"Suggest charts.\"\n",
              "            style=\"display:none;\">\n",
              "\n",
              "<svg xmlns=\"http://www.w3.org/2000/svg\" height=\"24px\"viewBox=\"0 0 24 24\"\n",
              "     width=\"24px\">\n",
              "    <g>\n",
              "        <path d=\"M19 3H5c-1.1 0-2 .9-2 2v14c0 1.1.9 2 2 2h14c1.1 0 2-.9 2-2V5c0-1.1-.9-2-2-2zM9 17H7v-7h2v7zm4 0h-2V7h2v10zm4 0h-2v-4h2v4z\"/>\n",
              "    </g>\n",
              "</svg>\n",
              "  </button>\n",
              "\n",
              "<style>\n",
              "  .colab-df-quickchart {\n",
              "      --bg-color: #E8F0FE;\n",
              "      --fill-color: #1967D2;\n",
              "      --hover-bg-color: #E2EBFA;\n",
              "      --hover-fill-color: #174EA6;\n",
              "      --disabled-fill-color: #AAA;\n",
              "      --disabled-bg-color: #DDD;\n",
              "  }\n",
              "\n",
              "  [theme=dark] .colab-df-quickchart {\n",
              "      --bg-color: #3B4455;\n",
              "      --fill-color: #D2E3FC;\n",
              "      --hover-bg-color: #434B5C;\n",
              "      --hover-fill-color: #FFFFFF;\n",
              "      --disabled-bg-color: #3B4455;\n",
              "      --disabled-fill-color: #666;\n",
              "  }\n",
              "\n",
              "  .colab-df-quickchart {\n",
              "    background-color: var(--bg-color);\n",
              "    border: none;\n",
              "    border-radius: 50%;\n",
              "    cursor: pointer;\n",
              "    display: none;\n",
              "    fill: var(--fill-color);\n",
              "    height: 32px;\n",
              "    padding: 0;\n",
              "    width: 32px;\n",
              "  }\n",
              "\n",
              "  .colab-df-quickchart:hover {\n",
              "    background-color: var(--hover-bg-color);\n",
              "    box-shadow: 0 1px 2px rgba(60, 64, 67, 0.3), 0 1px 3px 1px rgba(60, 64, 67, 0.15);\n",
              "    fill: var(--button-hover-fill-color);\n",
              "  }\n",
              "\n",
              "  .colab-df-quickchart-complete:disabled,\n",
              "  .colab-df-quickchart-complete:disabled:hover {\n",
              "    background-color: var(--disabled-bg-color);\n",
              "    fill: var(--disabled-fill-color);\n",
              "    box-shadow: none;\n",
              "  }\n",
              "\n",
              "  .colab-df-spinner {\n",
              "    border: 2px solid var(--fill-color);\n",
              "    border-color: transparent;\n",
              "    border-bottom-color: var(--fill-color);\n",
              "    animation:\n",
              "      spin 1s steps(1) infinite;\n",
              "  }\n",
              "\n",
              "  @keyframes spin {\n",
              "    0% {\n",
              "      border-color: transparent;\n",
              "      border-bottom-color: var(--fill-color);\n",
              "      border-left-color: var(--fill-color);\n",
              "    }\n",
              "    20% {\n",
              "      border-color: transparent;\n",
              "      border-left-color: var(--fill-color);\n",
              "      border-top-color: var(--fill-color);\n",
              "    }\n",
              "    30% {\n",
              "      border-color: transparent;\n",
              "      border-left-color: var(--fill-color);\n",
              "      border-top-color: var(--fill-color);\n",
              "      border-right-color: var(--fill-color);\n",
              "    }\n",
              "    40% {\n",
              "      border-color: transparent;\n",
              "      border-right-color: var(--fill-color);\n",
              "      border-top-color: var(--fill-color);\n",
              "    }\n",
              "    60% {\n",
              "      border-color: transparent;\n",
              "      border-right-color: var(--fill-color);\n",
              "    }\n",
              "    80% {\n",
              "      border-color: transparent;\n",
              "      border-right-color: var(--fill-color);\n",
              "      border-bottom-color: var(--fill-color);\n",
              "    }\n",
              "    90% {\n",
              "      border-color: transparent;\n",
              "      border-bottom-color: var(--fill-color);\n",
              "    }\n",
              "  }\n",
              "</style>\n",
              "\n",
              "  <script>\n",
              "    async function quickchart(key) {\n",
              "      const quickchartButtonEl =\n",
              "        document.querySelector('#' + key + ' button');\n",
              "      quickchartButtonEl.disabled = true;  // To prevent multiple clicks.\n",
              "      quickchartButtonEl.classList.add('colab-df-spinner');\n",
              "      try {\n",
              "        const charts = await google.colab.kernel.invokeFunction(\n",
              "            'suggestCharts', [key], {});\n",
              "      } catch (error) {\n",
              "        console.error('Error during call to suggestCharts:', error);\n",
              "      }\n",
              "      quickchartButtonEl.classList.remove('colab-df-spinner');\n",
              "      quickchartButtonEl.classList.add('colab-df-quickchart-complete');\n",
              "    }\n",
              "    (() => {\n",
              "      let quickchartButtonEl =\n",
              "        document.querySelector('#df-15df1bc6-5e9d-43cd-a9ac-12687abc531a button');\n",
              "      quickchartButtonEl.style.display =\n",
              "        google.colab.kernel.accessAllowed ? 'block' : 'none';\n",
              "    })();\n",
              "  </script>\n",
              "</div>\n",
              "    </div>\n",
              "  </div>\n"
            ]
          },
          "metadata": {},
          "execution_count": 3
        }
      ]
    },
    {
      "cell_type": "code",
      "metadata": {
        "id": "GowXG5FncrPD",
        "colab": {
          "base_uri": "https://localhost:8080/",
          "height": 206
        },
        "outputId": "e9772299-0512-49aa-f27b-7d6d7afe7d45"
      },
      "source": [
        "df_test.head()"
      ],
      "execution_count": 4,
      "outputs": [
        {
          "output_type": "execute_result",
          "data": {
            "text/plain": [
              "   Unnamed: 0 gender  age    year eyecolor  height  miles  brothers  sisters  \\\n",
              "0        1303   male   20  second    green    73.0  210.0         0        1   \n",
              "1          36   male   20   third    other    71.0   90.0         1        0   \n",
              "2         489   male   22  fourth    hazel    75.0  200.0         0        1   \n",
              "3        1415   male   19  second    brown    72.0   35.0         2        2   \n",
              "4         616   male   22  fourth    hazel    71.0   15.0         2        1   \n",
              "\n",
              "   computertime exercise  exercisehours  musiccds  playgames  watchtv  \n",
              "0          10.0      Yes            5.0      50.0        1.0     15.0  \n",
              "1          15.0      Yes            4.0      10.0        0.0      1.0  \n",
              "2           1.0      Yes            2.0     150.0        1.0     10.0  \n",
              "3          20.0      Yes            5.0     100.0        0.0      7.0  \n",
              "4          10.0      Yes            7.0      10.0        0.0      5.0  "
            ],
            "text/html": [
              "\n",
              "  <div id=\"df-cb673629-af5a-43ad-9e07-d4e072900002\" class=\"colab-df-container\">\n",
              "    <div>\n",
              "<style scoped>\n",
              "    .dataframe tbody tr th:only-of-type {\n",
              "        vertical-align: middle;\n",
              "    }\n",
              "\n",
              "    .dataframe tbody tr th {\n",
              "        vertical-align: top;\n",
              "    }\n",
              "\n",
              "    .dataframe thead th {\n",
              "        text-align: right;\n",
              "    }\n",
              "</style>\n",
              "<table border=\"1\" class=\"dataframe\">\n",
              "  <thead>\n",
              "    <tr style=\"text-align: right;\">\n",
              "      <th></th>\n",
              "      <th>Unnamed: 0</th>\n",
              "      <th>gender</th>\n",
              "      <th>age</th>\n",
              "      <th>year</th>\n",
              "      <th>eyecolor</th>\n",
              "      <th>height</th>\n",
              "      <th>miles</th>\n",
              "      <th>brothers</th>\n",
              "      <th>sisters</th>\n",
              "      <th>computertime</th>\n",
              "      <th>exercise</th>\n",
              "      <th>exercisehours</th>\n",
              "      <th>musiccds</th>\n",
              "      <th>playgames</th>\n",
              "      <th>watchtv</th>\n",
              "    </tr>\n",
              "  </thead>\n",
              "  <tbody>\n",
              "    <tr>\n",
              "      <th>0</th>\n",
              "      <td>1303</td>\n",
              "      <td>male</td>\n",
              "      <td>20</td>\n",
              "      <td>second</td>\n",
              "      <td>green</td>\n",
              "      <td>73.0</td>\n",
              "      <td>210.0</td>\n",
              "      <td>0</td>\n",
              "      <td>1</td>\n",
              "      <td>10.0</td>\n",
              "      <td>Yes</td>\n",
              "      <td>5.0</td>\n",
              "      <td>50.0</td>\n",
              "      <td>1.0</td>\n",
              "      <td>15.0</td>\n",
              "    </tr>\n",
              "    <tr>\n",
              "      <th>1</th>\n",
              "      <td>36</td>\n",
              "      <td>male</td>\n",
              "      <td>20</td>\n",
              "      <td>third</td>\n",
              "      <td>other</td>\n",
              "      <td>71.0</td>\n",
              "      <td>90.0</td>\n",
              "      <td>1</td>\n",
              "      <td>0</td>\n",
              "      <td>15.0</td>\n",
              "      <td>Yes</td>\n",
              "      <td>4.0</td>\n",
              "      <td>10.0</td>\n",
              "      <td>0.0</td>\n",
              "      <td>1.0</td>\n",
              "    </tr>\n",
              "    <tr>\n",
              "      <th>2</th>\n",
              "      <td>489</td>\n",
              "      <td>male</td>\n",
              "      <td>22</td>\n",
              "      <td>fourth</td>\n",
              "      <td>hazel</td>\n",
              "      <td>75.0</td>\n",
              "      <td>200.0</td>\n",
              "      <td>0</td>\n",
              "      <td>1</td>\n",
              "      <td>1.0</td>\n",
              "      <td>Yes</td>\n",
              "      <td>2.0</td>\n",
              "      <td>150.0</td>\n",
              "      <td>1.0</td>\n",
              "      <td>10.0</td>\n",
              "    </tr>\n",
              "    <tr>\n",
              "      <th>3</th>\n",
              "      <td>1415</td>\n",
              "      <td>male</td>\n",
              "      <td>19</td>\n",
              "      <td>second</td>\n",
              "      <td>brown</td>\n",
              "      <td>72.0</td>\n",
              "      <td>35.0</td>\n",
              "      <td>2</td>\n",
              "      <td>2</td>\n",
              "      <td>20.0</td>\n",
              "      <td>Yes</td>\n",
              "      <td>5.0</td>\n",
              "      <td>100.0</td>\n",
              "      <td>0.0</td>\n",
              "      <td>7.0</td>\n",
              "    </tr>\n",
              "    <tr>\n",
              "      <th>4</th>\n",
              "      <td>616</td>\n",
              "      <td>male</td>\n",
              "      <td>22</td>\n",
              "      <td>fourth</td>\n",
              "      <td>hazel</td>\n",
              "      <td>71.0</td>\n",
              "      <td>15.0</td>\n",
              "      <td>2</td>\n",
              "      <td>1</td>\n",
              "      <td>10.0</td>\n",
              "      <td>Yes</td>\n",
              "      <td>7.0</td>\n",
              "      <td>10.0</td>\n",
              "      <td>0.0</td>\n",
              "      <td>5.0</td>\n",
              "    </tr>\n",
              "  </tbody>\n",
              "</table>\n",
              "</div>\n",
              "    <div class=\"colab-df-buttons\">\n",
              "\n",
              "  <div class=\"colab-df-container\">\n",
              "    <button class=\"colab-df-convert\" onclick=\"convertToInteractive('df-cb673629-af5a-43ad-9e07-d4e072900002')\"\n",
              "            title=\"Convert this dataframe to an interactive table.\"\n",
              "            style=\"display:none;\">\n",
              "\n",
              "  <svg xmlns=\"http://www.w3.org/2000/svg\" height=\"24px\" viewBox=\"0 -960 960 960\">\n",
              "    <path d=\"M120-120v-720h720v720H120Zm60-500h600v-160H180v160Zm220 220h160v-160H400v160Zm0 220h160v-160H400v160ZM180-400h160v-160H180v160Zm440 0h160v-160H620v160ZM180-180h160v-160H180v160Zm440 0h160v-160H620v160Z\"/>\n",
              "  </svg>\n",
              "    </button>\n",
              "\n",
              "  <style>\n",
              "    .colab-df-container {\n",
              "      display:flex;\n",
              "      gap: 12px;\n",
              "    }\n",
              "\n",
              "    .colab-df-convert {\n",
              "      background-color: #E8F0FE;\n",
              "      border: none;\n",
              "      border-radius: 50%;\n",
              "      cursor: pointer;\n",
              "      display: none;\n",
              "      fill: #1967D2;\n",
              "      height: 32px;\n",
              "      padding: 0 0 0 0;\n",
              "      width: 32px;\n",
              "    }\n",
              "\n",
              "    .colab-df-convert:hover {\n",
              "      background-color: #E2EBFA;\n",
              "      box-shadow: 0px 1px 2px rgba(60, 64, 67, 0.3), 0px 1px 3px 1px rgba(60, 64, 67, 0.15);\n",
              "      fill: #174EA6;\n",
              "    }\n",
              "\n",
              "    .colab-df-buttons div {\n",
              "      margin-bottom: 4px;\n",
              "    }\n",
              "\n",
              "    [theme=dark] .colab-df-convert {\n",
              "      background-color: #3B4455;\n",
              "      fill: #D2E3FC;\n",
              "    }\n",
              "\n",
              "    [theme=dark] .colab-df-convert:hover {\n",
              "      background-color: #434B5C;\n",
              "      box-shadow: 0px 1px 3px 1px rgba(0, 0, 0, 0.15);\n",
              "      filter: drop-shadow(0px 1px 2px rgba(0, 0, 0, 0.3));\n",
              "      fill: #FFFFFF;\n",
              "    }\n",
              "  </style>\n",
              "\n",
              "    <script>\n",
              "      const buttonEl =\n",
              "        document.querySelector('#df-cb673629-af5a-43ad-9e07-d4e072900002 button.colab-df-convert');\n",
              "      buttonEl.style.display =\n",
              "        google.colab.kernel.accessAllowed ? 'block' : 'none';\n",
              "\n",
              "      async function convertToInteractive(key) {\n",
              "        const element = document.querySelector('#df-cb673629-af5a-43ad-9e07-d4e072900002');\n",
              "        const dataTable =\n",
              "          await google.colab.kernel.invokeFunction('convertToInteractive',\n",
              "                                                    [key], {});\n",
              "        if (!dataTable) return;\n",
              "\n",
              "        const docLinkHtml = 'Like what you see? Visit the ' +\n",
              "          '<a target=\"_blank\" href=https://colab.research.google.com/notebooks/data_table.ipynb>data table notebook</a>'\n",
              "          + ' to learn more about interactive tables.';\n",
              "        element.innerHTML = '';\n",
              "        dataTable['output_type'] = 'display_data';\n",
              "        await google.colab.output.renderOutput(dataTable, element);\n",
              "        const docLink = document.createElement('div');\n",
              "        docLink.innerHTML = docLinkHtml;\n",
              "        element.appendChild(docLink);\n",
              "      }\n",
              "    </script>\n",
              "  </div>\n",
              "\n",
              "\n",
              "<div id=\"df-d67a3b85-afce-447b-a836-eaa8eab3c5d6\">\n",
              "  <button class=\"colab-df-quickchart\" onclick=\"quickchart('df-d67a3b85-afce-447b-a836-eaa8eab3c5d6')\"\n",
              "            title=\"Suggest charts.\"\n",
              "            style=\"display:none;\">\n",
              "\n",
              "<svg xmlns=\"http://www.w3.org/2000/svg\" height=\"24px\"viewBox=\"0 0 24 24\"\n",
              "     width=\"24px\">\n",
              "    <g>\n",
              "        <path d=\"M19 3H5c-1.1 0-2 .9-2 2v14c0 1.1.9 2 2 2h14c1.1 0 2-.9 2-2V5c0-1.1-.9-2-2-2zM9 17H7v-7h2v7zm4 0h-2V7h2v10zm4 0h-2v-4h2v4z\"/>\n",
              "    </g>\n",
              "</svg>\n",
              "  </button>\n",
              "\n",
              "<style>\n",
              "  .colab-df-quickchart {\n",
              "      --bg-color: #E8F0FE;\n",
              "      --fill-color: #1967D2;\n",
              "      --hover-bg-color: #E2EBFA;\n",
              "      --hover-fill-color: #174EA6;\n",
              "      --disabled-fill-color: #AAA;\n",
              "      --disabled-bg-color: #DDD;\n",
              "  }\n",
              "\n",
              "  [theme=dark] .colab-df-quickchart {\n",
              "      --bg-color: #3B4455;\n",
              "      --fill-color: #D2E3FC;\n",
              "      --hover-bg-color: #434B5C;\n",
              "      --hover-fill-color: #FFFFFF;\n",
              "      --disabled-bg-color: #3B4455;\n",
              "      --disabled-fill-color: #666;\n",
              "  }\n",
              "\n",
              "  .colab-df-quickchart {\n",
              "    background-color: var(--bg-color);\n",
              "    border: none;\n",
              "    border-radius: 50%;\n",
              "    cursor: pointer;\n",
              "    display: none;\n",
              "    fill: var(--fill-color);\n",
              "    height: 32px;\n",
              "    padding: 0;\n",
              "    width: 32px;\n",
              "  }\n",
              "\n",
              "  .colab-df-quickchart:hover {\n",
              "    background-color: var(--hover-bg-color);\n",
              "    box-shadow: 0 1px 2px rgba(60, 64, 67, 0.3), 0 1px 3px 1px rgba(60, 64, 67, 0.15);\n",
              "    fill: var(--button-hover-fill-color);\n",
              "  }\n",
              "\n",
              "  .colab-df-quickchart-complete:disabled,\n",
              "  .colab-df-quickchart-complete:disabled:hover {\n",
              "    background-color: var(--disabled-bg-color);\n",
              "    fill: var(--disabled-fill-color);\n",
              "    box-shadow: none;\n",
              "  }\n",
              "\n",
              "  .colab-df-spinner {\n",
              "    border: 2px solid var(--fill-color);\n",
              "    border-color: transparent;\n",
              "    border-bottom-color: var(--fill-color);\n",
              "    animation:\n",
              "      spin 1s steps(1) infinite;\n",
              "  }\n",
              "\n",
              "  @keyframes spin {\n",
              "    0% {\n",
              "      border-color: transparent;\n",
              "      border-bottom-color: var(--fill-color);\n",
              "      border-left-color: var(--fill-color);\n",
              "    }\n",
              "    20% {\n",
              "      border-color: transparent;\n",
              "      border-left-color: var(--fill-color);\n",
              "      border-top-color: var(--fill-color);\n",
              "    }\n",
              "    30% {\n",
              "      border-color: transparent;\n",
              "      border-left-color: var(--fill-color);\n",
              "      border-top-color: var(--fill-color);\n",
              "      border-right-color: var(--fill-color);\n",
              "    }\n",
              "    40% {\n",
              "      border-color: transparent;\n",
              "      border-right-color: var(--fill-color);\n",
              "      border-top-color: var(--fill-color);\n",
              "    }\n",
              "    60% {\n",
              "      border-color: transparent;\n",
              "      border-right-color: var(--fill-color);\n",
              "    }\n",
              "    80% {\n",
              "      border-color: transparent;\n",
              "      border-right-color: var(--fill-color);\n",
              "      border-bottom-color: var(--fill-color);\n",
              "    }\n",
              "    90% {\n",
              "      border-color: transparent;\n",
              "      border-bottom-color: var(--fill-color);\n",
              "    }\n",
              "  }\n",
              "</style>\n",
              "\n",
              "  <script>\n",
              "    async function quickchart(key) {\n",
              "      const quickchartButtonEl =\n",
              "        document.querySelector('#' + key + ' button');\n",
              "      quickchartButtonEl.disabled = true;  // To prevent multiple clicks.\n",
              "      quickchartButtonEl.classList.add('colab-df-spinner');\n",
              "      try {\n",
              "        const charts = await google.colab.kernel.invokeFunction(\n",
              "            'suggestCharts', [key], {});\n",
              "      } catch (error) {\n",
              "        console.error('Error during call to suggestCharts:', error);\n",
              "      }\n",
              "      quickchartButtonEl.classList.remove('colab-df-spinner');\n",
              "      quickchartButtonEl.classList.add('colab-df-quickchart-complete');\n",
              "    }\n",
              "    (() => {\n",
              "      let quickchartButtonEl =\n",
              "        document.querySelector('#df-d67a3b85-afce-447b-a836-eaa8eab3c5d6 button');\n",
              "      quickchartButtonEl.style.display =\n",
              "        google.colab.kernel.accessAllowed ? 'block' : 'none';\n",
              "    })();\n",
              "  </script>\n",
              "</div>\n",
              "    </div>\n",
              "  </div>\n"
            ]
          },
          "metadata": {},
          "execution_count": 4
        }
      ]
    },
    {
      "cell_type": "markdown",
      "metadata": {
        "id": "RGt_10ZAreOv"
      },
      "source": [
        "***\n",
        "### Question 1 (1 point)###\n",
        "Calculate a baseline accuracy measure using the majority class, assuming a target variable of `gender`. The majority class is the most common value of the target variable in a particular dataset. Accuracy is calculated as (true positives + true negatives) / (all negatives and positives)."
      ]
    },
    {
      "cell_type": "markdown",
      "metadata": {
        "id": "UZPiLgekreOw"
      },
      "source": [
        "**Question 1.a**  \n",
        "Find the majority class in the training set. If you always predicted this class in the training set, what would your accuracy be?"
      ]
    },
    {
      "cell_type": "code",
      "metadata": {
        "id": "iYjEFc1greOx",
        "colab": {
          "base_uri": "https://localhost:8080/"
        },
        "outputId": "eed11462-594a-4c3b-a14f-6b5a09cc5abf"
      },
      "source": [
        "# YOUR CODE HERE\n",
        "df_train.groupby('gender').count()\n",
        "majority = \"female\"\n",
        "true_positive = (df_train['gender'] == 'female').sum()\n",
        "true_negative = 0\n",
        "total = df_train['gender'].count()\n",
        "\n",
        "accuracy = (true_positive + true_negative) / total\n",
        "accuracy"
      ],
      "execution_count": 5,
      "outputs": [
        {
          "output_type": "execute_result",
          "data": {
            "text/plain": [
              "0.5427852348993288"
            ]
          },
          "metadata": {},
          "execution_count": 5
        }
      ]
    },
    {
      "cell_type": "markdown",
      "metadata": {
        "id": "5w2LK2QxUFKv"
      },
      "source": [
        "**Answer: YOUR ANSWER HERE**"
      ]
    },
    {
      "cell_type": "markdown",
      "metadata": {
        "id": "ULPKW0IvreOy"
      },
      "source": [
        "**Question 1.b**   \n",
        "If you always predicted this same class (majority from the training set) in the test set, what would your accuracy be?"
      ]
    },
    {
      "cell_type": "code",
      "metadata": {
        "id": "dfU5mwh405vq",
        "colab": {
          "base_uri": "https://localhost:8080/"
        },
        "outputId": "b3179fae-fd8e-4ed2-c6c8-1464b8bfb213"
      },
      "source": [
        "# YOUR CODE HERE\n",
        "df_test.groupby('gender').count()\n",
        "majority_test = \"female\"\n",
        "true_positive_test = (df_test['gender'] == 'female').sum()\n",
        "true_negative_test = 0\n",
        "total_test = df_test['gender'].count()\n",
        "\n",
        "accuracy_test = (true_positive_test + true_negative_test) / total_test\n",
        "accuracy_test"
      ],
      "execution_count": 6,
      "outputs": [
        {
          "output_type": "execute_result",
          "data": {
            "text/plain": [
              "0.5226130653266332"
            ]
          },
          "metadata": {},
          "execution_count": 6
        }
      ]
    },
    {
      "cell_type": "markdown",
      "metadata": {
        "id": "pINRUJxG05v4"
      },
      "source": [
        "**Answer: YOUR ANSWER HERE**"
      ]
    },
    {
      "cell_type": "markdown",
      "metadata": {
        "id": "GKb2Ju-GreO0"
      },
      "source": [
        "***\n",
        "### Question 2 (1.5 points)###\n",
        "Get started with Neural Networks."
      ]
    },
    {
      "cell_type": "markdown",
      "metadata": {
        "id": "UYI6e3F3reO0"
      },
      "source": [
        "   \n",
        "Choose a NN implementation (we recommend Sklearn MLPclassifier) and specify which you choose. Be sure the implementation allows you to modify the number of hidden layers and hidden nodes per layer.  \n",
        "\n",
        "NOTE: When possible, specify the logsig (`sigmoid`/`logistic`) function as the transfer function (another word for activation function) and use Levenberg-Marquardt backpropagation (`lbfgs`). It is possible to specify logistic in Sklearn MLPclassifier.  "
      ]
    },
    {
      "cell_type": "markdown",
      "source": [
        "**My NN implementation of choice: Sklearn**"
      ],
      "metadata": {
        "id": "2WHCSftWa2bF"
      }
    },
    {
      "cell_type": "markdown",
      "metadata": {
        "id": "4am3sGc4reO1"
      },
      "source": [
        "**Question 2.a**   \n",
        "Train a neural network with a single 10 node hidden layer. Only use the `height` feature of the dataset to predict the `gender`. You will have to change `gender` to a 0 and 1 class. After training, use your trained model to predict the class (`gender`) using the `height` feature from the training set. What is the accuracy of this prediction?"
      ]
    },
    {
      "cell_type": "code",
      "metadata": {
        "id": "jbAzltaw067l"
      },
      "source": [
        "# YOUR CODE HERE\n",
        "df_train = df_train.replace({'first\"': \"first\"})\n",
        "df_test = df_test.replace({'first\"': \"first\"})"
      ],
      "execution_count": 7,
      "outputs": []
    },
    {
      "cell_type": "code",
      "source": [
        "df_train.head()\n",
        "r_df_train = df_train.replace('male', 0).replace('female', 1)\n",
        "r_df_test = df_test.replace('male', 0).replace('female', 1)\n"
      ],
      "metadata": {
        "id": "6g_xQlfLhCoZ"
      },
      "execution_count": 8,
      "outputs": []
    },
    {
      "cell_type": "code",
      "source": [
        "X_train = r_df_train[['height']]\n",
        "Y_train = r_df_train['gender']\n",
        "clf = MLPClassifier(hidden_layer_sizes=(10,), activation = 'logistic', max_iter=100, alpha=0.0001,\n",
        "                     solver='lbfgs', verbose=10,  random_state=21,tol=0.000000001)\n",
        "\n",
        "clf.fit(X_train,Y_train)\n",
        "y_pred_train=clf.predict(X_train)\n",
        "print(accuracy_score(Y_train,y_pred_train))"
      ],
      "metadata": {
        "colab": {
          "base_uri": "https://localhost:8080/"
        },
        "id": "URF-oyEMhFo4",
        "outputId": "ab6c3645-e41d-4e97-ed40-e915072272c4"
      },
      "execution_count": 9,
      "outputs": [
        {
          "output_type": "stream",
          "name": "stdout",
          "text": [
            "0.5427852348993288\n"
          ]
        }
      ]
    },
    {
      "cell_type": "markdown",
      "metadata": {
        "id": "EuaCk0l0067q"
      },
      "source": [
        "**Answer: 54.27%**"
      ]
    },
    {
      "cell_type": "code",
      "source": [],
      "metadata": {
        "id": "UJkgHlkdhFAT"
      },
      "execution_count": 9,
      "outputs": []
    },
    {
      "cell_type": "markdown",
      "metadata": {
        "id": "AkqzIeshreO2"
      },
      "source": [
        "**Question 2.b (0.5 points)**  \n",
        "Take the trained model from question 2.a and use it to predict the test set. This can be accomplished by taking the trained model and giving it the `height` feature values from the test set. What is the accuracy of this model on the test set?"
      ]
    },
    {
      "cell_type": "code",
      "metadata": {
        "id": "Tw25ezWp07hj",
        "colab": {
          "base_uri": "https://localhost:8080/"
        },
        "outputId": "087d7a23-fd6e-4f73-9fd6-e7ec9190b9c0"
      },
      "source": [
        "# YOUR CODE HERE\n",
        "X_test = r_df_test[['height']]\n",
        "Y_test = r_df_test['gender']\n",
        "y_pred_test=clf.predict(X_test)\n",
        "print(accuracy_score(Y_test,y_pred_test))"
      ],
      "execution_count": 10,
      "outputs": [
        {
          "output_type": "stream",
          "name": "stdout",
          "text": [
            "0.5226130653266332\n"
          ]
        }
      ]
    },
    {
      "cell_type": "markdown",
      "metadata": {
        "id": "HbHMAFvw07hm"
      },
      "source": [
        "**Answer: 52.26%**"
      ]
    },
    {
      "cell_type": "markdown",
      "metadata": {
        "id": "uMmIfsNEreO3"
      },
      "source": [
        "**Question 2.c**   \n",
        "Neural Networks tend to prefer smaller, normalized feature values. Try taking the log of the `height` feature in both training and testing sets or use a Standard Scalar operation in SKlearn to centre and normalize the data between 0-1 for continuous values. Repeat question 2.a and 2.b with the log version or the normalized and centered version of this feature."
      ]
    },
    {
      "cell_type": "code",
      "metadata": {
        "id": "wDhCZPaU07_8",
        "colab": {
          "base_uri": "https://localhost:8080/"
        },
        "outputId": "29870a09-997e-4d8c-cc33-968b047cb62e"
      },
      "source": [
        "# YOUR CODE HERE\n",
        "log_X_train = np.log(r_df_train[['height']])\n",
        "log_Y_train = r_df_train['gender']\n",
        "clf = MLPClassifier(hidden_layer_sizes=(10,), activation = 'logistic', max_iter=100, alpha=0.0001,\n",
        "                     solver='lbfgs', verbose=10,  random_state=21,tol=0.000000001)\n",
        "\n",
        "clf.fit(log_X_train,log_Y_train)\n",
        "log_y_pred_train=clf.predict(log_X_train)\n",
        "print(\"Training Accuracy:\", accuracy_score(log_Y_train,log_y_pred_train))\n",
        "\n",
        "log_X_test = np.log(r_df_test[['height']])\n",
        "log_Y_test = r_df_test['gender']\n",
        "\n",
        "log_y_pred_test=clf.predict(log_X_test)\n",
        "print(\"Test Accuracy\", accuracy_score(log_Y_test,log_y_pred_test))\n",
        "\n"
      ],
      "execution_count": 11,
      "outputs": [
        {
          "output_type": "stream",
          "name": "stdout",
          "text": [
            "Training Accuracy: 0.8439597315436241\n",
            "Test Accuracy 0.8542713567839196\n"
          ]
        }
      ]
    },
    {
      "cell_type": "markdown",
      "metadata": {
        "id": "GTO2KMti07__"
      },
      "source": [
        "**Answer (accuracy on training set): 84.39%**"
      ]
    },
    {
      "cell_type": "markdown",
      "metadata": {
        "id": "ps1JmsR2uXiV"
      },
      "source": [
        "**Answer (accuracy on test set): 85.42%**"
      ]
    },
    {
      "cell_type": "markdown",
      "metadata": {
        "id": "2_SlOdcarePC"
      },
      "source": [
        "***\n",
        "\n",
        "### Question 3 (1 point) ###\n",
        "Many of the remaining features in the dataset are categorical. No ML method accepts categorical features, so transform `year`, `eyecolor`, `exercise` into a set of binary features, one feature per unique original feature value, and mark the binary feature as ‘1’ if the feature value matches the original value and ‘0’ otherwise. Using only these one-hot transformed features, train and predict the class of the test set. What was your accuracy using a Neural Network with a single 10 node hidden layer?"
      ]
    },
    {
      "cell_type": "code",
      "metadata": {
        "id": "YjhzBFNV1Aip",
        "colab": {
          "base_uri": "https://localhost:8080/"
        },
        "outputId": "95c7d5f7-4fb7-4c9f-c981-9f40691e1b0c"
      },
      "source": [
        "# YOUR CODE HERE\n",
        "from sklearn import preprocessing\n",
        "df_train\n",
        "\n",
        "def encoded(r_df_train):\n",
        "  cat_df = r_df_train.select_dtypes(include=[object])\n",
        "  le = preprocessing.LabelEncoder()\n",
        "  cat_df_2 = cat_df.apply(le.fit_transform)\n",
        "  enc = preprocessing.OneHotEncoder()\n",
        "  enc.fit(cat_df_2)\n",
        "  onehotlabels = enc.transform(cat_df_2).toarray()\n",
        "  encoded_cat_df = pd.DataFrame(onehotlabels)\n",
        "  return encoded_cat_df\n",
        "\n",
        "\n",
        "cat_X_train = encoded(r_df_train)\n",
        "cat_Y_train = r_df_train['gender']\n",
        "clf = MLPClassifier(hidden_layer_sizes=(10,), activation = 'logistic', max_iter=50, alpha=0.0001,\n",
        "                     solver='lbfgs', verbose=10,  random_state=21,tol=0.000000001)\n",
        "\n",
        "clf.fit(cat_X_train,cat_Y_train)\n",
        "cat_y_pred_train=clf.predict(cat_X_train)\n",
        "print(\"Test Accuracy:\", accuracy_score(cat_Y_train,cat_y_pred_train))\n",
        "cat_X_test = encoded(r_df_test)\n",
        "cat_Y_test = r_df_test['gender']\n",
        "cat_y_pred_test=clf.predict(cat_X_test)\n",
        "print(\"Train Accuracy:\", accuracy_score(cat_Y_test,cat_y_pred_test))"
      ],
      "execution_count": 12,
      "outputs": [
        {
          "output_type": "stream",
          "name": "stdout",
          "text": [
            "Test Accuracy: 0.5713087248322147\n",
            "Train Accuracy: 0.5527638190954773\n"
          ]
        }
      ]
    },
    {
      "cell_type": "markdown",
      "metadata": {
        "id": "PyQ1EvAY1Ait"
      },
      "source": [
        "**Answer: Test accuracy was 57.13% and train accuracy was 55.27%**"
      ]
    },
    {
      "cell_type": "markdown",
      "metadata": {
        "id": "dSSr9sBlrePG"
      },
      "source": [
        "***\n",
        "### Question 4 (3 points)###\n",
        "Using a NN, report the accuracy on the test set of a model that trained only on `height` and the `eyecolor` features of instances in the training set."
      ]
    },
    {
      "cell_type": "markdown",
      "metadata": {
        "id": "rMNSlOmJrePG"
      },
      "source": [
        "**Question 4.a**  \n",
        "What is the accuracy on the test set using the original `height` values (no pre-processing) and `eyecolor` as a one-hot?"
      ]
    },
    {
      "cell_type": "code",
      "metadata": {
        "id": "F_vN4tyv1Ckq",
        "colab": {
          "base_uri": "https://localhost:8080/"
        },
        "outputId": "70d605f7-f5c7-48cd-f8e2-eee7fc4245c1"
      },
      "source": [
        "# YOUR CODE HERE\n",
        "df_4 = r_df_train[['height', 'eyecolor']]\n",
        "df_4_test = r_df_test[['height', 'eyecolor']]\n",
        "encoded_4 = encoded(df_4)\n",
        "encoded_4['height'] = df_4['height']\n",
        "encoded_4_test = encoded(df_4_test)\n",
        "encoded_4_test['height'] = df_4_test['height']\n",
        "encoded_4.columns = encoded_4.columns.astype(str)\n",
        "encoded_4_test.columns = encoded_4_test.columns.astype(str)\n",
        "\n",
        "e_X_train = encoded_4\n",
        "e_Y_train = r_df_train['gender']\n",
        "\n",
        "clf = MLPClassifier(hidden_layer_sizes=(10,), activation = 'logistic', max_iter=50, alpha=0.0001,\n",
        "                     solver='lbfgs', verbose=10,  random_state=21,tol=0.000000001)\n",
        "clf.fit(e_X_train,e_Y_train)\n",
        "e_y_pred_train=clf.predict(e_X_train)\n",
        "print(\"Train Accuracy:\", accuracy_score(e_Y_train,e_y_pred_train))\n",
        "e_X_test = encoded_4_test\n",
        "e_Y_test = r_df_test['gender']\n",
        "e_y_pred_test=clf.predict(e_X_test)\n",
        "print(\"Test Accuracy:\", accuracy_score(e_Y_test,e_y_pred_test))"
      ],
      "execution_count": 13,
      "outputs": [
        {
          "output_type": "stream",
          "name": "stdout",
          "text": [
            "Train Accuracy: 0.8187919463087249\n",
            "Test Accuracy: 0.8291457286432161\n"
          ]
        }
      ]
    },
    {
      "cell_type": "markdown",
      "metadata": {
        "id": "CaL2o0TW1Cks"
      },
      "source": [
        "**Answer: Train accuracy of 81.87% and test accuracy of 82.91%**"
      ]
    },
    {
      "cell_type": "markdown",
      "metadata": {
        "id": "NC8Ipx9QrePH"
      },
      "source": [
        "**Question 4.b**  \n",
        "What is the accuracy on the test set using the log of `height` values (applied to both training and testing sets) and `eyecolor` as a one-hot?"
      ]
    },
    {
      "cell_type": "code",
      "metadata": {
        "id": "cFvzNv6O1DG3",
        "colab": {
          "base_uri": "https://localhost:8080/"
        },
        "outputId": "49375b81-05b3-4a59-ed01-b71e087965a8"
      },
      "source": [
        "# YOUR CODE HERE\n",
        "df_4b = r_df_train[['height', 'eyecolor']]\n",
        "df_4b_test = r_df_test[['height', 'eyecolor']]\n",
        "encoded_4b = encoded(df_4b)\n",
        "encoded_4b['height'] = np.log(df_4b['height'])\n",
        "encoded_4b_test = encoded(df_4b_test)\n",
        "encoded_4b_test['height'] = np.log(df_4b_test['height'])\n",
        "encoded_4b.columns = encoded_4.columns.astype(str)\n",
        "encoded_4b_test.columns = encoded_4_test.columns.astype(str)\n",
        "#training\n",
        "be_X_train = encoded_4b\n",
        "be_Y_train = r_df_train['gender']\n",
        "clf = MLPClassifier(hidden_layer_sizes=(10,), activation = 'logistic', max_iter=50, alpha=0.0001,\n",
        "                     solver='lbfgs', verbose=10,  random_state=21,tol=0.000000001)\n",
        "clf.fit(be_X_train,be_Y_train)\n",
        "be_y_pred_train=clf.predict(be_X_train)\n",
        "print(\"Training Accuracy:\", accuracy_score(be_Y_train,be_y_pred_train))\n",
        "\n",
        "be_X_test = encoded_4b_test\n",
        "be_Y_test = r_df_test['gender']\n",
        "\n",
        "be_y_pred_test=clf.predict(be_X_test)\n",
        "print(\"Test Accuracy:\", accuracy_score(be_Y_test,be_y_pred_test))"
      ],
      "execution_count": 14,
      "outputs": [
        {
          "output_type": "stream",
          "name": "stdout",
          "text": [
            "Training Accuracy: 0.8162751677852349\n",
            "Test Accuracy: 0.821608040201005\n"
          ]
        }
      ]
    },
    {
      "cell_type": "markdown",
      "metadata": {
        "id": "Pt3NMp1M1DG4"
      },
      "source": [
        "**Answer: Training Accuracy: 81.62% and Test Accuracy: 82.16% **"
      ]
    },
    {
      "cell_type": "markdown",
      "metadata": {
        "id": "iYm2jqnprePI"
      },
      "source": [
        "**Question 4.c**  \n",
        "What is the accuracy on the test set using the Z-score of `height` values and `eyecolor` as a one-hot?\n",
        "\n",
        "Z-score is a normalization function. It is the value of a feature minus the average value for that feature (in the training set), divided by the standard deviation of that feature (in the training set). Remember that, whenever applying a function to a feature in the training set, it also has to be applied to that same feature in the test set."
      ]
    },
    {
      "cell_type": "code",
      "metadata": {
        "id": "P3mDjF6N1DoN",
        "colab": {
          "base_uri": "https://localhost:8080/"
        },
        "outputId": "f140da27-83da-4682-a8da-b15e8639e21b"
      },
      "source": [
        "# YOUR CODE HERE\n",
        "df_4c = r_df_train[['height', 'eyecolor']]\n",
        "df_4c_test = r_df_test[['height', 'eyecolor']]\n",
        "encoded_4c = encoded(df_4c)\n",
        "encoded_4c_test = encoded(df_4c_test)\n",
        "\n",
        "encoded_4c['height'] = (df_4c['height'] - df_4c['height'].mean())/df_4c['height'].std()\n",
        "encoded_4c_test['height'] = (df_4c_test['height'] - df_4c_test['height'].mean())/df_4c_test['height'].std()\n",
        "encoded_4c.columns = encoded_4.columns.astype(str)\n",
        "encoded_4c_test.columns = encoded_4_test.columns.astype(str)\n",
        "#training\n",
        "ce_X_train = encoded_4c\n",
        "ce_Y_train = r_df_train['gender']\n",
        "clf = MLPClassifier(hidden_layer_sizes=(10,), activation = 'logistic', max_iter=50, alpha=0.0001,\n",
        "                     solver='lbfgs', verbose=10,  random_state=21,tol=0.000000001)\n",
        "clf.fit(ce_X_train,ce_Y_train)\n",
        "ce_y_pred_train=clf.predict(ce_X_train)\n",
        "print(\"Training Accuracy:\", accuracy_score(ce_Y_train,ce_y_pred_train))\n",
        "\n",
        "ce_X_test = encoded_4c_test\n",
        "ce_Y_test = r_df_test['gender']\n",
        "\n",
        "ce_y_pred_test=clf.predict(ce_X_test)\n",
        "print(\"Test Accuracy:\", accuracy_score(ce_Y_test,ce_y_pred_test))"
      ],
      "execution_count": 15,
      "outputs": [
        {
          "output_type": "stream",
          "name": "stdout",
          "text": [
            "Training Accuracy: 0.8447986577181208\n",
            "Test Accuracy: 0.8517587939698492\n"
          ]
        }
      ]
    },
    {
      "cell_type": "markdown",
      "metadata": {
        "id": "YAnuY8Sv1DoO"
      },
      "source": [
        "**Answer: Training Accuracy: 84.47% and Test Accuracy: 85.17%**"
      ]
    },
    {
      "cell_type": "markdown",
      "metadata": {
        "id": "Fh9qwu_9rePJ"
      },
      "source": [
        "***\n",
        "### Question 5 (1.5 points) ###\n",
        "Repeat question 4 for `playgames` & `eyecolor`."
      ]
    },
    {
      "cell_type": "markdown",
      "metadata": {
        "id": "II5bc2lGAUDD"
      },
      "source": [
        "**Question 5.a**  \\\\\n",
        "What is the accuracy on the test set using the original `playgames` values (no pre-processing) and `eyecolor` as a one-hot?"
      ]
    },
    {
      "cell_type": "code",
      "metadata": {
        "id": "JAgHz_r-1EMR",
        "colab": {
          "base_uri": "https://localhost:8080/"
        },
        "outputId": "16e9384b-35d8-46a3-9dd9-53a1634a0e9e"
      },
      "source": [
        "# YOUR CODE HERE\n",
        "df_5 = r_df_train[['exercisehours', 'eyecolor']]\n",
        "df_5_test = r_df_test[['exercisehours', 'eyecolor']]\n",
        "encoded_5 = encoded(df_5)\n",
        "encoded_5['exercisehours'] = df_5['exercisehours']\n",
        "encoded_5_test = encoded(df_5_test)\n",
        "encoded_5_test['exercisehours'] = df_5_test['exercisehours']\n",
        "encoded_5.columns = encoded_4.columns.astype(str)\n",
        "encoded_5_test.columns = encoded_4_test.columns.astype(str)\n",
        "e_X_train5 = encoded_5\n",
        "e_Y_train5 = r_df_train['gender']\n",
        "clf = MLPClassifier(hidden_layer_sizes=(10,), activation = 'logistic', max_iter=50, alpha=0.0001,\n",
        "                     solver='lbfgs', verbose=10,  random_state=21,tol=0.000000001)\n",
        "clf.fit(e_X_train5,e_Y_train5)\n",
        "e_y_pred_train5=clf.predict(e_X_train5)\n",
        "print(\"Training Accuracy:\",accuracy_score(e_Y_train5,e_y_pred_train5))\n",
        "\n",
        "e_X_test5 = encoded_5_test\n",
        "e_Y_test5 = r_df_test['gender']\n",
        "\n",
        "e_y_pred_test5=clf.predict(e_X_test5)\n",
        "print(\"Test Accuracy:\",accuracy_score(e_Y_test5,e_y_pred_test5))"
      ],
      "execution_count": 16,
      "outputs": [
        {
          "output_type": "stream",
          "name": "stdout",
          "text": [
            "Training Accuracy: 0.584731543624161\n",
            "Test Accuracy: 0.5653266331658291\n"
          ]
        }
      ]
    },
    {
      "cell_type": "markdown",
      "metadata": {
        "id": "gNqB2UTxAm9l"
      },
      "source": [
        "**Answer: Training Accuracy: 58.47% and Test Accuracy: 56.53%**"
      ]
    },
    {
      "cell_type": "markdown",
      "metadata": {
        "id": "-EUk8EFdAeD1"
      },
      "source": [
        "**Question 5.b**  \\\\\n",
        "What is the accuracy on the test set using the log of `playgames` values (applied to both training and testing sets) and `eyecolor` as a one-hot?\n",
        "\n",
        "Note: You can drop rows that have 0 in the `playgames` column, in order to avoid -inf values when applying log."
      ]
    },
    {
      "cell_type": "code",
      "metadata": {
        "id": "TBoi2u6hAjAB",
        "colab": {
          "base_uri": "https://localhost:8080/"
        },
        "outputId": "60d67e4a-7f1d-46c0-c929-38bafcdb3469"
      },
      "source": [
        "# YOUR CODE HERE\n",
        "data_train = r_df_train[['exercisehours', 'eyecolor', 'gender']]\n",
        "data_test = r_df_test[['exercisehours', 'eyecolor', 'gender']]\n",
        "\n",
        "data_train['exercisehours'] = data_train['exercisehours'].replace(0.0, 0.01)\n",
        "data_test['exercisehours'] = data_test['exercisehours'].replace(0.0,0.01)\n",
        "\n",
        "df_5b = data_train[['exercisehours', 'eyecolor']]\n",
        "df_5b_test = data_test[['exercisehours', 'eyecolor']]\n",
        "\n",
        "encoded_5b = encoded(df_5b)\n",
        "encoded_5b['exercisehours'] = np.log(df_5b['exercisehours'])\n",
        "\n",
        "encoded_5b_test = encoded(df_5b_test)\n",
        "encoded_5b_test['exercisehours'] = np.log(df_5b_test['exercisehours'])\n",
        "\n",
        "#training\n",
        "encoded_5b.columns = encoded_4.columns.astype(str)\n",
        "encoded_5b_test.columns = encoded_4_test.columns.astype(str)\n",
        "X_train = encoded_5b\n",
        "Y_train = data_train['gender']\n",
        "clf = MLPClassifier(hidden_layer_sizes=(10,), activation = 'logistic', max_iter=50, alpha=0.0001,\n",
        "                     solver='lbfgs', verbose=10,  random_state=21,tol=0.000000001)\n",
        "clf.fit(X_train,Y_train)\n",
        "y_pred_train=clf.predict(X_train)\n",
        "print(\"Training Accuracy:\",accuracy_score(Y_train,y_pred_train))\n",
        "\n",
        "X_test = encoded_5b_test\n",
        "Y_test = data_test['gender']\n",
        "\n",
        "y_pred_test=clf.predict(X_test)\n",
        "print(\"Test Accuracy:\",accuracy_score(Y_test,y_pred_test))"
      ],
      "execution_count": 17,
      "outputs": [
        {
          "output_type": "stream",
          "name": "stdout",
          "text": [
            "Training Accuracy: 0.5855704697986577\n",
            "Test Accuracy: 0.5603015075376885\n"
          ]
        }
      ]
    },
    {
      "cell_type": "markdown",
      "metadata": {
        "id": "a2C9_xTUAnaU"
      },
      "source": [
        "**Answer: Training Accuracy: 58.55% and Test Accuracy: 56.03%**"
      ]
    },
    {
      "cell_type": "markdown",
      "metadata": {
        "id": "eqf-3iQ1Aebj"
      },
      "source": [
        "**Question 5.c** \\\\\n",
        "What is the accuracy on the test set using the Z-score of `playgames` values and `eyecolor` as a one-hot?"
      ]
    },
    {
      "cell_type": "code",
      "metadata": {
        "id": "zSNSl76eAkKz",
        "colab": {
          "base_uri": "https://localhost:8080/"
        },
        "outputId": "52116133-3a60-4f34-b52c-f47f853b913c"
      },
      "source": [
        "# YOUR CODE HERE\n",
        "df_5c = r_df_train[['exercisehours', 'eyecolor']]\n",
        "df_5c_test = r_df_test[['exercisehours', 'eyecolor']]\n",
        "encoded_5c = encoded(df_5c)\n",
        "encoded_5c_test = encoded(df_5c_test)\n",
        "\n",
        "encoded_5c['exercisehours'] = (df_5c['exercisehours'] - df_5c['exercisehours'].mean())/df_5c['exercisehours'].std()\n",
        "encoded_5c_test['exercisehours'] = (df_5c_test['exercisehours'] - df_5c_test['exercisehours'].mean())/df_5c_test['exercisehours'].std()\n",
        "\n",
        "#training\n",
        "encoded_5c.columns = encoded_4.columns.astype(str)\n",
        "encoded_5c_test.columns = encoded_4_test.columns.astype(str)\n",
        "ce_X_train5 = encoded_5c\n",
        "ce_Y_train5 = r_df_train['gender']\n",
        "clf = MLPClassifier(hidden_layer_sizes=(10,), activation = 'logistic', max_iter=50, alpha=0.0001,\n",
        "                     solver='lbfgs', verbose=10,  random_state=21,tol=0.000000001)\n",
        "clf.fit(ce_X_train5,ce_Y_train5)\n",
        "ce_y_pred_train5=clf.predict(ce_X_train5)\n",
        "print(\"Training Accuracy:\",accuracy_score(ce_Y_train5,ce_y_pred_train5))\n",
        "\n",
        "ce_X_test5 = encoded_5c_test\n",
        "ce_Y_test5 = r_df_test['gender']\n",
        "\n",
        "ce_y_pred_test5=clf.predict(ce_X_test5)\n",
        "print(\"Test Accuracy:\",accuracy_score(ce_Y_test5,ce_y_pred_test5))"
      ],
      "execution_count": 18,
      "outputs": [
        {
          "output_type": "stream",
          "name": "stdout",
          "text": [
            "Training Accuracy: 0.5914429530201343\n",
            "Test Accuracy: 0.5678391959798995\n"
          ]
        }
      ]
    },
    {
      "cell_type": "markdown",
      "metadata": {
        "id": "ZlDfGvy61EMS"
      },
      "source": [
        "**Answer: Training Accuracy: 59.14% and Test Accuracy: 56.78%**"
      ]
    },
    {
      "cell_type": "markdown",
      "metadata": {
        "id": "JYVuaPWgrePL"
      },
      "source": [
        "***\n",
        "### Question 6 (2 points)###\n",
        "Combine the features from question 3, 4, and 5 (`year`, `eyecolor`, `exercise`, `height`, `playgames`). For numeric features use the best normalization method from questions 4 and 5."
      ]
    },
    {
      "cell_type": "markdown",
      "metadata": {
        "id": "1iAiFhlFrePM"
      },
      "source": [
        "**Question 6.a**   \n",
        "What was the NN accuracy on the test set using the single 10 node hidden layer?"
      ]
    },
    {
      "cell_type": "code",
      "metadata": {
        "id": "QuLJ6sTB1FfN",
        "colab": {
          "base_uri": "https://localhost:8080/"
        },
        "outputId": "e73d73d5-bb77-4424-99e2-42255bf424be"
      },
      "source": [
        "# YOUR CODE HERE\n",
        "df_6_train = encoded(r_df_train)\n",
        "df_6_train['height'] = (r_df_train['height'] - r_df_train['height'].mean())/r_df_train['height'].std()\n",
        "df_6_train['exercisehours'] = (r_df_train['exercisehours'] - r_df_train['exercisehours'].mean())/r_df_train['exercisehours'].std()\n",
        "\n",
        "df_6_test = encoded(r_df_test)\n",
        "df_6_test['height'] = (r_df_test['height'] - r_df_test['height'].mean())/r_df_test['height'].std()\n",
        "df_6_test['exercisehours'] = (r_df_test['exercisehours'] - r_df_test['exercisehours'].mean())/r_df_test['exercisehours'].std()\n",
        "df_6_train.columns = df_6_train.columns.astype(str)\n",
        "df_6_test.columns = df_6_test.columns.astype(str)\n",
        "cat_X_train = df_6_train\n",
        "cat_Y_train = r_df_train['gender']\n",
        "clf = MLPClassifier(hidden_layer_sizes=(10,), activation = 'logistic', max_iter=50, alpha=0.0001,\n",
        "                     solver='lbfgs', verbose=10,  random_state=21,tol=0.000000001)\n",
        "\n",
        "clf.fit(cat_X_train,cat_Y_train)\n",
        "cat_y_pred_train=clf.predict(cat_X_train)\n",
        "print(\"Training Accuracy:\",accuracy_score(cat_Y_train,cat_y_pred_train))\n",
        "\n",
        "cat_X_test = df_6_test\n",
        "cat_Y_test = r_df_test['gender']\n",
        "\n",
        "cat_y_pred_test=clf.predict(cat_X_test)\n",
        "print(\"Test Accuracy:\",accuracy_score(cat_Y_test,cat_y_pred_test))"
      ],
      "execution_count": 19,
      "outputs": [
        {
          "output_type": "stream",
          "name": "stdout",
          "text": [
            "Training Accuracy: 0.8523489932885906\n",
            "Test Accuracy: 0.8391959798994975\n"
          ]
        }
      ]
    },
    {
      "cell_type": "markdown",
      "metadata": {
        "id": "1foS74O01FfP"
      },
      "source": [
        "**Answer: Training Accuracy: 85.23% and Test Accuracy: 83.91%**"
      ]
    },
    {
      "cell_type": "markdown",
      "metadata": {
        "id": "Jusc-kofrePP"
      },
      "source": [
        "***\n",
        "### Question 7- Bonus (1 point)###\n",
        "Can you improve your test set prediction accuracy by 3% or more? See how close to that milestone of improvement you can get by modifying the hyperparameters of  Neural Networks (the number of hidden layers, number of hidden nodes in each layer, the learning rate, the type of activation function etc.).\n",
        "\n",
        "A great guide to tuning parameters is explained in this guide: http://www.csie.ntu.edu.tw/~cjlin/papers/guide/guide.pdf. While the guide is specific to SVM and in particular the C and gamma parameters of the RBF kernel, the method applies more generally to any ML technique with tuning parameters.\n",
        "\n",
        "Please give your new prediction accuracy on the test set, and write a paragraph in a text cell below with an explanation of your approach and evaluation metrics.\n"
      ]
    },
    {
      "cell_type": "code",
      "metadata": {
        "id": "qvpoUdeq1GsX",
        "colab": {
          "base_uri": "https://localhost:8080/"
        },
        "outputId": "efb79c73-0826-4722-99d8-7f756751e0fb"
      },
      "source": [
        "# YOUR CODE HERE\n",
        "df_7_train = encoded(r_df_train)\n",
        "df_7_train['height'] = (r_df_train['height'] - r_df_train['height'].mean())/r_df_train['height'].std()\n",
        "df_7_train['exercisehours'] = (r_df_train['exercisehours'] - r_df_train['exercisehours'].mean())/r_df_train['exercisehours'].std()\n",
        "\n",
        "df_7_test = encoded(r_df_test)\n",
        "df_7_test['height'] = (r_df_test['height'] - r_df_test['height'].mean())/r_df_test['height'].std()\n",
        "df_7_test['exercisehours'] = (r_df_test['exercisehours'] - r_df_test['exercisehours'].mean())/r_df_test['exercisehours'].std()\n",
        "df_7_test.columns = df_7_test.columns.astype(str)\n",
        "df_7_train.columns = df_7_train.columns.astype(str)\n",
        "cat_X_train7 = df_7_train\n",
        "cat_Y_train7 = r_df_train['gender']\n",
        "clf = MLPClassifier(hidden_layer_sizes=(10,10,), activation = 'logistic', max_iter=100, alpha=0.0001,\n",
        "                     solver='lbfgs', verbose=10,  random_state=21,tol=0.000000001)\n",
        "\n",
        "clf.fit(cat_X_train7,cat_Y_train7)\n",
        "cat_y_pred_train7=clf.predict(cat_X_train7)\n",
        "print(\"Training Accuracy:\",accuracy_score(cat_Y_train7,cat_y_pred_train7))\n",
        "\n",
        "cat_X_test7 = df_7_test\n",
        "cat_Y_test7 = r_df_test['gender']\n",
        "\n",
        "cat_y_pred_test7=clf.predict(cat_X_test7)\n",
        "print(\"Test Accuracy:\",accuracy_score(cat_Y_test7,cat_y_pred_test7))"
      ],
      "execution_count": 20,
      "outputs": [
        {
          "output_type": "stream",
          "name": "stdout",
          "text": [
            "Training Accuracy: 0.8833892617449665\n",
            "Test Accuracy: 0.8366834170854272\n"
          ]
        }
      ]
    },
    {
      "cell_type": "markdown",
      "metadata": {
        "id": "2rFY8D4Q1GsZ"
      },
      "source": [
        "**Answer: Training Accuracy: 88.33% and Test Accuracy: 83.66%**"
      ]
    },
    {
      "cell_type": "markdown",
      "source": [
        "**Explanation: By increasing the amount of hidden layers(10 to 10,10), as well as increasing the max_iter to 100, I was able to get a higher training and test accuracy.**"
      ],
      "metadata": {
        "id": "WwQ1o2BZDtKM"
      }
    },
    {
      "cell_type": "code",
      "source": [],
      "metadata": {
        "id": "kujTLsiCpSQw"
      },
      "execution_count": 20,
      "outputs": []
    }
  ]
}