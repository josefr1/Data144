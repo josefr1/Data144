{
  "nbformat": 4,
  "nbformat_minor": 0,
  "metadata": {
    "colab": {
      "provenance": []
    },
    "kernelspec": {
      "name": "python3",
      "display_name": "Python 3"
    }
  },
  "cells": [
    {
      "cell_type": "markdown",
      "metadata": {
        "id": "9kTKaVK47knP"
      },
      "source": [
        "# Lab 8 Neural Language Model\n",
        "A language model predicts the next word in the sequence based on the specific words that have come before it in the sequence.\n",
        "\n",
        "It is also possible to develop language models at the character level using neural networks. The benefit of character-based language models is their small vocabulary and flexibility in handling any words, punctuation, and other document structure. This comes at the cost of requiring larger models that are slower to train.\n",
        "\n",
        "Nevertheless, in the field of neural language models, character-based models offer a lot of promise for a general, flexible and powerful approach to language modeling."
      ]
    },
    {
      "cell_type": "markdown",
      "metadata": {
        "id": "QK2Ew8_C7knQ"
      },
      "source": [
        "As a prerequisite for the lab, make sure to pip install:\n",
        "- keras\n",
        "- tensorflow\n",
        "- h5py"
      ]
    },
    {
      "cell_type": "markdown",
      "metadata": {
        "id": "xIs5eFI97knR"
      },
      "source": [
        "# Source Text Creation"
      ]
    },
    {
      "cell_type": "markdown",
      "metadata": {
        "id": "zQku8-L97knT"
      },
      "source": [
        "To start out with, we'll be using a simple nursery rhyme. It's quite short so we can actually train something on your CPU and see relatively interesting results. Please copy and paste the following text in a text file and save it as \"rhymes.txt\". Place this in the same directory as this jupyter notebook:"
      ]
    },
    {
      "cell_type": "code",
      "metadata": {
        "id": "6wl1ZLGG7wii",
        "colab": {
          "base_uri": "https://localhost:8080/",
          "height": 0
        },
        "outputId": "84ba813e-078b-49b3-8886-1cba0ab9c7e9"
      },
      "source": [
        "!pip install tensorflow\n",
        "!pip install keras\n",
        "!pip install h5py"
      ],
      "execution_count": 1,
      "outputs": [
        {
          "output_type": "stream",
          "name": "stdout",
          "text": [
            "Requirement already satisfied: tensorflow in /usr/local/lib/python3.10/dist-packages (2.14.0)\n",
            "Requirement already satisfied: absl-py>=1.0.0 in /usr/local/lib/python3.10/dist-packages (from tensorflow) (1.4.0)\n",
            "Requirement already satisfied: astunparse>=1.6.0 in /usr/local/lib/python3.10/dist-packages (from tensorflow) (1.6.3)\n",
            "Requirement already satisfied: flatbuffers>=23.5.26 in /usr/local/lib/python3.10/dist-packages (from tensorflow) (23.5.26)\n",
            "Requirement already satisfied: gast!=0.5.0,!=0.5.1,!=0.5.2,>=0.2.1 in /usr/local/lib/python3.10/dist-packages (from tensorflow) (0.5.4)\n",
            "Requirement already satisfied: google-pasta>=0.1.1 in /usr/local/lib/python3.10/dist-packages (from tensorflow) (0.2.0)\n",
            "Requirement already satisfied: h5py>=2.9.0 in /usr/local/lib/python3.10/dist-packages (from tensorflow) (3.9.0)\n",
            "Requirement already satisfied: libclang>=13.0.0 in /usr/local/lib/python3.10/dist-packages (from tensorflow) (16.0.6)\n",
            "Requirement already satisfied: ml-dtypes==0.2.0 in /usr/local/lib/python3.10/dist-packages (from tensorflow) (0.2.0)\n",
            "Requirement already satisfied: numpy>=1.23.5 in /usr/local/lib/python3.10/dist-packages (from tensorflow) (1.23.5)\n",
            "Requirement already satisfied: opt-einsum>=2.3.2 in /usr/local/lib/python3.10/dist-packages (from tensorflow) (3.3.0)\n",
            "Requirement already satisfied: packaging in /usr/local/lib/python3.10/dist-packages (from tensorflow) (23.2)\n",
            "Requirement already satisfied: protobuf!=4.21.0,!=4.21.1,!=4.21.2,!=4.21.3,!=4.21.4,!=4.21.5,<5.0.0dev,>=3.20.3 in /usr/local/lib/python3.10/dist-packages (from tensorflow) (3.20.3)\n",
            "Requirement already satisfied: setuptools in /usr/local/lib/python3.10/dist-packages (from tensorflow) (67.7.2)\n",
            "Requirement already satisfied: six>=1.12.0 in /usr/local/lib/python3.10/dist-packages (from tensorflow) (1.16.0)\n",
            "Requirement already satisfied: termcolor>=1.1.0 in /usr/local/lib/python3.10/dist-packages (from tensorflow) (2.3.0)\n",
            "Requirement already satisfied: typing-extensions>=3.6.6 in /usr/local/lib/python3.10/dist-packages (from tensorflow) (4.5.0)\n",
            "Requirement already satisfied: wrapt<1.15,>=1.11.0 in /usr/local/lib/python3.10/dist-packages (from tensorflow) (1.14.1)\n",
            "Requirement already satisfied: tensorflow-io-gcs-filesystem>=0.23.1 in /usr/local/lib/python3.10/dist-packages (from tensorflow) (0.34.0)\n",
            "Requirement already satisfied: grpcio<2.0,>=1.24.3 in /usr/local/lib/python3.10/dist-packages (from tensorflow) (1.59.2)\n",
            "Requirement already satisfied: tensorboard<2.15,>=2.14 in /usr/local/lib/python3.10/dist-packages (from tensorflow) (2.14.1)\n",
            "Requirement already satisfied: tensorflow-estimator<2.15,>=2.14.0 in /usr/local/lib/python3.10/dist-packages (from tensorflow) (2.14.0)\n",
            "Requirement already satisfied: keras<2.15,>=2.14.0 in /usr/local/lib/python3.10/dist-packages (from tensorflow) (2.14.0)\n",
            "Requirement already satisfied: wheel<1.0,>=0.23.0 in /usr/local/lib/python3.10/dist-packages (from astunparse>=1.6.0->tensorflow) (0.41.3)\n",
            "Requirement already satisfied: google-auth<3,>=1.6.3 in /usr/local/lib/python3.10/dist-packages (from tensorboard<2.15,>=2.14->tensorflow) (2.17.3)\n",
            "Requirement already satisfied: google-auth-oauthlib<1.1,>=0.5 in /usr/local/lib/python3.10/dist-packages (from tensorboard<2.15,>=2.14->tensorflow) (1.0.0)\n",
            "Requirement already satisfied: markdown>=2.6.8 in /usr/local/lib/python3.10/dist-packages (from tensorboard<2.15,>=2.14->tensorflow) (3.5.1)\n",
            "Requirement already satisfied: requests<3,>=2.21.0 in /usr/local/lib/python3.10/dist-packages (from tensorboard<2.15,>=2.14->tensorflow) (2.31.0)\n",
            "Requirement already satisfied: tensorboard-data-server<0.8.0,>=0.7.0 in /usr/local/lib/python3.10/dist-packages (from tensorboard<2.15,>=2.14->tensorflow) (0.7.2)\n",
            "Requirement already satisfied: werkzeug>=1.0.1 in /usr/local/lib/python3.10/dist-packages (from tensorboard<2.15,>=2.14->tensorflow) (3.0.1)\n",
            "Requirement already satisfied: cachetools<6.0,>=2.0.0 in /usr/local/lib/python3.10/dist-packages (from google-auth<3,>=1.6.3->tensorboard<2.15,>=2.14->tensorflow) (5.3.2)\n",
            "Requirement already satisfied: pyasn1-modules>=0.2.1 in /usr/local/lib/python3.10/dist-packages (from google-auth<3,>=1.6.3->tensorboard<2.15,>=2.14->tensorflow) (0.3.0)\n",
            "Requirement already satisfied: rsa<5,>=3.1.4 in /usr/local/lib/python3.10/dist-packages (from google-auth<3,>=1.6.3->tensorboard<2.15,>=2.14->tensorflow) (4.9)\n",
            "Requirement already satisfied: requests-oauthlib>=0.7.0 in /usr/local/lib/python3.10/dist-packages (from google-auth-oauthlib<1.1,>=0.5->tensorboard<2.15,>=2.14->tensorflow) (1.3.1)\n",
            "Requirement already satisfied: charset-normalizer<4,>=2 in /usr/local/lib/python3.10/dist-packages (from requests<3,>=2.21.0->tensorboard<2.15,>=2.14->tensorflow) (3.3.2)\n",
            "Requirement already satisfied: idna<4,>=2.5 in /usr/local/lib/python3.10/dist-packages (from requests<3,>=2.21.0->tensorboard<2.15,>=2.14->tensorflow) (3.4)\n",
            "Requirement already satisfied: urllib3<3,>=1.21.1 in /usr/local/lib/python3.10/dist-packages (from requests<3,>=2.21.0->tensorboard<2.15,>=2.14->tensorflow) (2.0.7)\n",
            "Requirement already satisfied: certifi>=2017.4.17 in /usr/local/lib/python3.10/dist-packages (from requests<3,>=2.21.0->tensorboard<2.15,>=2.14->tensorflow) (2023.7.22)\n",
            "Requirement already satisfied: MarkupSafe>=2.1.1 in /usr/local/lib/python3.10/dist-packages (from werkzeug>=1.0.1->tensorboard<2.15,>=2.14->tensorflow) (2.1.3)\n",
            "Requirement already satisfied: pyasn1<0.6.0,>=0.4.6 in /usr/local/lib/python3.10/dist-packages (from pyasn1-modules>=0.2.1->google-auth<3,>=1.6.3->tensorboard<2.15,>=2.14->tensorflow) (0.5.0)\n",
            "Requirement already satisfied: oauthlib>=3.0.0 in /usr/local/lib/python3.10/dist-packages (from requests-oauthlib>=0.7.0->google-auth-oauthlib<1.1,>=0.5->tensorboard<2.15,>=2.14->tensorflow) (3.2.2)\n",
            "Requirement already satisfied: keras in /usr/local/lib/python3.10/dist-packages (2.14.0)\n",
            "Requirement already satisfied: h5py in /usr/local/lib/python3.10/dist-packages (3.9.0)\n",
            "Requirement already satisfied: numpy>=1.17.3 in /usr/local/lib/python3.10/dist-packages (from h5py) (1.23.5)\n"
          ]
        }
      ]
    },
    {
      "cell_type": "code",
      "metadata": {
        "id": "iqQdG7M68HVt"
      },
      "source": [
        "\n",
        "s='Sing a song of sixpence,\\\n",
        "A pocket full of rye.\\\n",
        "Four and twenty blackbirds,\\\n",
        "Baked in a pie.\\\n",
        "When the pie was opened\\\n",
        "The birds began to sing;\\\n",
        "Wasn’t that a dainty dish,\\\n",
        "To set before the king.\\\n",
        "The king was in his counting house,\\\n",
        "Counting out his money;\\\n",
        "The queen was in the parlour,\\\n",
        "Eating bread and honey.\\\n",
        "The maid was in the garden,\\\n",
        "Hanging out the clothes,\\\n",
        "When down came a blackbird\\\n",
        "And pecked off her nose.'\n",
        "\n",
        "with open('rhymes.txt','w') as f:\n",
        "  f.write(s)"
      ],
      "execution_count": 2,
      "outputs": []
    },
    {
      "cell_type": "markdown",
      "metadata": {
        "id": "Gq7wq3fF7knV"
      },
      "source": [
        "    Sing a song of sixpence,\n",
        "    A pocket full of rye.\n",
        "    Four and twenty blackbirds,\n",
        "    Baked in a pie.\n",
        "\n",
        "    When the pie was opened\n",
        "    The birds began to sing;\n",
        "    Wasn’t that a dainty dish,\n",
        "    To set before the king.\n",
        "\n",
        "    The king was in his counting house,\n",
        "    Counting out his money;\n",
        "    The queen was in the parlour,\n",
        "    Eating bread and honey.\n",
        "\n",
        "    The maid was in the garden,\n",
        "    Hanging out the clothes,\n",
        "    When down came a blackbird\n",
        "    And pecked off her nose."
      ]
    },
    {
      "cell_type": "markdown",
      "metadata": {
        "id": "tdOJmdjU7knW"
      },
      "source": [
        "# Sequence Generation\n",
        "\n",
        "A language model must be trained on the text, and in the case of a character-based language model, the input and output sequences must be characters.\n",
        "\n",
        "The number of characters used as input will also define the number of characters that will need to be provided to the model in order to elicit the first predicted character.\n",
        "\n",
        "After the first character has been generated, it can be appended to the input sequence and used as input for the model to generate the next character.\n",
        "\n",
        "Longer sequences offer more context for the model to learn what character to output next but take longer to train and impose more burden on seeding the model when generating text.\n",
        "\n",
        "We will use an arbitrary length of 10 characters for this model.\n",
        "\n",
        "There is not a lot of text, and 10 characters is a few words.\n",
        "\n",
        "We can now transform the raw text into a form that our model can learn; specifically, input and output sequences of characters."
      ]
    },
    {
      "cell_type": "code",
      "metadata": {
        "id": "JjJfvv1U7knY"
      },
      "source": [
        "#load doc into memory\n",
        "def load_doc(filename):\n",
        "    # open the file as read only\n",
        "    file = open(filename, 'r')\n",
        "    # read all text\n",
        "    text = file.read()\n",
        "    # close the file\n",
        "    file.close()\n",
        "    return text\n",
        "# save tokens to file, one dialog per line\n",
        "def save_doc(lines, filename):\n",
        "    data = '\\n'.join(lines)\n",
        "    file = open(filename, 'w')\n",
        "    file.write(data)\n",
        "    file.close()"
      ],
      "execution_count": 3,
      "outputs": []
    },
    {
      "cell_type": "code",
      "metadata": {
        "id": "F6GbMmMs7knb",
        "colab": {
          "base_uri": "https://localhost:8080/",
          "height": 0
        },
        "outputId": "d31c9d80-16ce-4b39-cd34-9b6dce2b0c60"
      },
      "source": [
        "#load text\n",
        "raw_text = load_doc('rhymes.txt')\n",
        "print(raw_text)\n",
        "\n",
        "# clean\n",
        "tokens = raw_text.split()\n",
        "raw_text = ' '.join(tokens)\n",
        "\n",
        "# organize into sequences of characters\n",
        "length = 10\n",
        "sequences = list()\n",
        "for i in range(length, len(raw_text)):\n",
        "    # select sequence of tokens\n",
        "    seq = raw_text[i-length:i+1]\n",
        "    # store\n",
        "    sequences.append(seq)\n",
        "print('Total Sequences: %d' % len(sequences))"
      ],
      "execution_count": 4,
      "outputs": [
        {
          "output_type": "stream",
          "name": "stdout",
          "text": [
            "Sing a song of sixpence,A pocket full of rye.Four and twenty blackbirds,Baked in a pie.When the pie was openedThe birds began to sing;Wasn’t that a dainty dish,To set before the king.The king was in his counting house,Counting out his money;The queen was in the parlour,Eating bread and honey.The maid was in the garden,Hanging out the clothes,When down came a blackbirdAnd pecked off her nose.\n",
            "Total Sequences: 384\n"
          ]
        }
      ]
    },
    {
      "cell_type": "code",
      "metadata": {
        "id": "iBepEyDn7kne"
      },
      "source": [
        "# save sequences to file\n",
        "out_filename = 'char_sequences.txt'\n",
        "save_doc(sequences, out_filename)"
      ],
      "execution_count": 5,
      "outputs": []
    },
    {
      "cell_type": "markdown",
      "metadata": {
        "id": "ohjVbv1l7kng"
      },
      "source": [
        "# Train a Model\n",
        "In this section, we will develop a neural language model for the prepared sequence data.\n",
        "\n",
        "The model will read encoded characters and predict the next character in the sequence. A Long Short-Term Memory recurrent neural network hidden layer will be used to learn the context from the input sequence in order to make the predictions."
      ]
    },
    {
      "cell_type": "code",
      "metadata": {
        "id": "7HBgtQvY7knh"
      },
      "source": [
        "from numpy import array\n",
        "from pickle import dump\n",
        "from tensorflow.keras.utils import to_categorical\n",
        "from keras.models import Sequential\n",
        "from keras.layers import Dense\n",
        "from keras.layers import LSTM\n",
        "\n",
        "# load doc into memory\n",
        "def load_doc(filename):\n",
        "    # open the file as read only\n",
        "    file = open(filename, 'r')\n",
        "    # read all text\n",
        "    text = file.read()\n",
        "    # close the file\n",
        "    file.close()\n",
        "    return text"
      ],
      "execution_count": 6,
      "outputs": []
    },
    {
      "cell_type": "code",
      "metadata": {
        "id": "r8ruXoPS7knl"
      },
      "source": [
        "# load\n",
        "\n",
        "in_filename = 'char_sequences.txt'\n",
        "raw_text = load_doc(in_filename)\n",
        "lines = raw_text.split('\\n')"
      ],
      "execution_count": 7,
      "outputs": []
    },
    {
      "cell_type": "markdown",
      "metadata": {
        "id": "uTnvoY-f7kno"
      },
      "source": [
        "The sequences of characters must be encoded as integers.This means that each unique character will be assigned a specific integer value and each sequence of characters will be encoded as a sequence of integers. We can create the mapping given a sorted set of unique characters in the raw input data. The mapping is a dictionary of character values to integer values.\n",
        "\n",
        "Next, we can process each sequence of characters one at a time and use the dictionary mapping to look up the integer value for each character. The result is a list of integer lists.\n",
        "\n",
        "We need to know the size of the vocabulary later. We can retrieve this as the size of the dictionary mapping."
      ]
    },
    {
      "cell_type": "code",
      "metadata": {
        "id": "kMndzt5v7kno",
        "colab": {
          "base_uri": "https://localhost:8080/",
          "height": 0
        },
        "outputId": "796fb44a-829e-4561-ce89-c8522378cb2d"
      },
      "source": [
        "# integer encode sequences of characters\n",
        "chars = sorted(list(set(raw_text)))\n",
        "mapping = dict((c, i) for i, c in enumerate(chars))\n",
        "sequences = list()\n",
        "for line in lines:\n",
        "    # integer encode line\n",
        "    encoded_seq = [mapping[char] for char in line]\n",
        "    # store\n",
        "    sequences.append(encoded_seq)\n",
        "\n",
        "# vocabulary size\n",
        "vocab_size = len(mapping)\n",
        "print('Vocabulary Size: %d' % vocab_size)\n",
        "\n",
        "# separate into input and output\n",
        "sequences = array(sequences)\n",
        "X, y = sequences[:,:-1], sequences[:,-1]\n",
        "sequences = [to_categorical(x, num_classes=vocab_size) for x in X]\n",
        "X = array(sequences)\n",
        "y = to_categorical(y, num_classes=vocab_size)"
      ],
      "execution_count": 8,
      "outputs": [
        {
          "output_type": "stream",
          "name": "stdout",
          "text": [
            "Vocabulary Size: 38\n"
          ]
        }
      ]
    },
    {
      "cell_type": "markdown",
      "metadata": {
        "id": "0qyCICfV7knx"
      },
      "source": [
        "The model is defined with an input layer that takes sequences that have 10 time steps and 38 features for the one hot encoded input sequences. Rather than specify these numbers, we use the second and third dimensions on the X input data. This is so that if we change the length of the sequences or size of the vocabulary, we do not need to change the model definition.\n",
        "\n",
        "The model has a single LSTM hidden layer with 75 memory cells. The model has a fully connected output layer that outputs one vector with a probability distribution across all characters in the vocabulary. A softmax activation function is used on the output layer to ensure the output has the properties of a probability distribution.\n",
        "\n",
        "The model is learning a multi-class classification problem, therefore we use the categorical log loss intended for this type of problem. The efficient Adam implementation of gradient descent is used to optimize the model and accuracy is reported at the end of each batch update. The model is fit for 50 training epochs.\n",
        "\n",
        "# To Do:\n",
        "- Try different numbers of memory cells\n",
        "- Try different types and amounts of recurrent and fully connected layers\n",
        "- Try different lengths of training epochs\n",
        "- Try different sequence lengths and pre-processing of data\n",
        "- Try regularization techniques such as Dropout"
      ]
    },
    {
      "cell_type": "code",
      "source": [
        "import numpy as np\n",
        "from sklearn.model_selection import train_test_split"
      ],
      "metadata": {
        "id": "8QvnFaP50_Ea"
      },
      "execution_count": 9,
      "outputs": []
    },
    {
      "cell_type": "code",
      "source": [
        "X_train, X_test, y_train, y_test = train_test_split(X, y, test_size=0.20, random_state=42)"
      ],
      "metadata": {
        "id": "Cc5Pi4dr0-Xa"
      },
      "execution_count": 10,
      "outputs": []
    },
    {
      "cell_type": "code",
      "source": [
        "# define model\n",
        "model = Sequential()\n",
        "model.add(LSTM(200, input_shape=(X.shape[1], X.shape[2])))\n",
        "model.add(Dense(vocab_size, activation='softmax'))\n",
        "print(model.summary())\n",
        "# compile model\n",
        "model.compile(loss='categorical_crossentropy', optimizer='adam', metrics=['accuracy'])\n",
        "# fit model\n",
        "history=model.fit(X, y, epochs=80)"
      ],
      "metadata": {
        "colab": {
          "base_uri": "https://localhost:8080/",
          "height": 0
        },
        "id": "VGkE002z1D58",
        "outputId": "964b2dd6-2bc4-4376-9e06-b32dd076dcfe"
      },
      "execution_count": 12,
      "outputs": [
        {
          "output_type": "stream",
          "name": "stdout",
          "text": [
            "Model: \"sequential_1\"\n",
            "_________________________________________________________________\n",
            " Layer (type)                Output Shape              Param #   \n",
            "=================================================================\n",
            " lstm_1 (LSTM)               (None, 200)               191200    \n",
            "                                                                 \n",
            " dense (Dense)               (None, 38)                7638      \n",
            "                                                                 \n",
            "=================================================================\n",
            "Total params: 198838 (776.71 KB)\n",
            "Trainable params: 198838 (776.71 KB)\n",
            "Non-trainable params: 0 (0.00 Byte)\n",
            "_________________________________________________________________\n",
            "None\n",
            "Epoch 1/80\n",
            "12/12 [==============================] - 2s 15ms/step - loss: 3.5739 - accuracy: 0.1432\n",
            "Epoch 2/80\n",
            "12/12 [==============================] - 0s 19ms/step - loss: 3.2026 - accuracy: 0.1589\n",
            "Epoch 3/80\n",
            "12/12 [==============================] - 0s 21ms/step - loss: 3.0821 - accuracy: 0.1641\n",
            "Epoch 4/80\n",
            "12/12 [==============================] - 0s 20ms/step - loss: 3.0476 - accuracy: 0.1589\n",
            "Epoch 5/80\n",
            "12/12 [==============================] - 0s 22ms/step - loss: 3.0247 - accuracy: 0.1589\n",
            "Epoch 6/80\n",
            "12/12 [==============================] - 0s 22ms/step - loss: 3.0034 - accuracy: 0.1589\n",
            "Epoch 7/80\n",
            "12/12 [==============================] - 0s 21ms/step - loss: 2.9641 - accuracy: 0.1667\n",
            "Epoch 8/80\n",
            "12/12 [==============================] - 0s 22ms/step - loss: 2.9467 - accuracy: 0.1953\n",
            "Epoch 9/80\n",
            "12/12 [==============================] - 0s 18ms/step - loss: 2.9006 - accuracy: 0.1667\n",
            "Epoch 10/80\n",
            "12/12 [==============================] - 0s 13ms/step - loss: 2.8671 - accuracy: 0.2109\n",
            "Epoch 11/80\n",
            "12/12 [==============================] - 0s 13ms/step - loss: 2.8328 - accuracy: 0.2135\n",
            "Epoch 12/80\n",
            "12/12 [==============================] - 0s 13ms/step - loss: 2.7585 - accuracy: 0.2448\n",
            "Epoch 13/80\n",
            "12/12 [==============================] - 0s 14ms/step - loss: 2.7186 - accuracy: 0.2396\n",
            "Epoch 14/80\n",
            "12/12 [==============================] - 0s 13ms/step - loss: 2.6511 - accuracy: 0.2786\n",
            "Epoch 15/80\n",
            "12/12 [==============================] - 0s 13ms/step - loss: 2.6164 - accuracy: 0.2656\n",
            "Epoch 16/80\n",
            "12/12 [==============================] - 0s 13ms/step - loss: 2.5356 - accuracy: 0.2786\n",
            "Epoch 17/80\n",
            "12/12 [==============================] - 0s 13ms/step - loss: 2.4515 - accuracy: 0.2839\n",
            "Epoch 18/80\n",
            "12/12 [==============================] - 0s 14ms/step - loss: 2.3679 - accuracy: 0.3359\n",
            "Epoch 19/80\n",
            "12/12 [==============================] - 0s 13ms/step - loss: 2.2933 - accuracy: 0.3125\n",
            "Epoch 20/80\n",
            "12/12 [==============================] - 0s 14ms/step - loss: 2.1959 - accuracy: 0.3646\n",
            "Epoch 21/80\n",
            "12/12 [==============================] - 0s 14ms/step - loss: 2.1409 - accuracy: 0.3776\n",
            "Epoch 22/80\n",
            "12/12 [==============================] - 0s 14ms/step - loss: 2.0454 - accuracy: 0.3802\n",
            "Epoch 23/80\n",
            "12/12 [==============================] - 0s 14ms/step - loss: 1.9889 - accuracy: 0.4271\n",
            "Epoch 24/80\n",
            "12/12 [==============================] - 0s 14ms/step - loss: 1.8630 - accuracy: 0.4453\n",
            "Epoch 25/80\n",
            "12/12 [==============================] - 0s 14ms/step - loss: 1.8116 - accuracy: 0.4479\n",
            "Epoch 26/80\n",
            "12/12 [==============================] - 0s 14ms/step - loss: 1.6983 - accuracy: 0.4818\n",
            "Epoch 27/80\n",
            "12/12 [==============================] - 0s 14ms/step - loss: 1.6764 - accuracy: 0.5052\n",
            "Epoch 28/80\n",
            "12/12 [==============================] - 0s 14ms/step - loss: 1.5687 - accuracy: 0.5208\n",
            "Epoch 29/80\n",
            "12/12 [==============================] - 0s 14ms/step - loss: 1.5073 - accuracy: 0.5833\n",
            "Epoch 30/80\n",
            "12/12 [==============================] - 0s 13ms/step - loss: 1.4421 - accuracy: 0.6068\n",
            "Epoch 31/80\n",
            "12/12 [==============================] - 0s 14ms/step - loss: 1.3251 - accuracy: 0.6615\n",
            "Epoch 32/80\n",
            "12/12 [==============================] - 0s 13ms/step - loss: 1.2327 - accuracy: 0.6979\n",
            "Epoch 33/80\n",
            "12/12 [==============================] - 0s 13ms/step - loss: 1.1141 - accuracy: 0.7344\n",
            "Epoch 34/80\n",
            "12/12 [==============================] - 0s 14ms/step - loss: 1.0426 - accuracy: 0.7760\n",
            "Epoch 35/80\n",
            "12/12 [==============================] - 0s 14ms/step - loss: 0.9701 - accuracy: 0.7917\n",
            "Epoch 36/80\n",
            "12/12 [==============================] - 0s 15ms/step - loss: 0.9019 - accuracy: 0.8021\n",
            "Epoch 37/80\n",
            "12/12 [==============================] - 0s 14ms/step - loss: 0.7990 - accuracy: 0.8490\n",
            "Epoch 38/80\n",
            "12/12 [==============================] - 0s 14ms/step - loss: 0.7357 - accuracy: 0.8776\n",
            "Epoch 39/80\n",
            "12/12 [==============================] - 0s 13ms/step - loss: 0.6876 - accuracy: 0.8828\n",
            "Epoch 40/80\n",
            "12/12 [==============================] - 0s 13ms/step - loss: 0.6170 - accuracy: 0.9089\n",
            "Epoch 41/80\n",
            "12/12 [==============================] - 0s 15ms/step - loss: 0.5794 - accuracy: 0.9323\n",
            "Epoch 42/80\n",
            "12/12 [==============================] - 0s 15ms/step - loss: 0.5024 - accuracy: 0.9401\n",
            "Epoch 43/80\n",
            "12/12 [==============================] - 0s 13ms/step - loss: 0.4736 - accuracy: 0.9583\n",
            "Epoch 44/80\n",
            "12/12 [==============================] - 0s 14ms/step - loss: 0.4168 - accuracy: 0.9583\n",
            "Epoch 45/80\n",
            "12/12 [==============================] - 0s 14ms/step - loss: 0.3758 - accuracy: 0.9635\n",
            "Epoch 46/80\n",
            "12/12 [==============================] - 0s 13ms/step - loss: 0.3223 - accuracy: 0.9844\n",
            "Epoch 47/80\n",
            "12/12 [==============================] - 0s 13ms/step - loss: 0.2867 - accuracy: 0.9870\n",
            "Epoch 48/80\n",
            "12/12 [==============================] - 0s 14ms/step - loss: 0.2649 - accuracy: 0.9870\n",
            "Epoch 49/80\n",
            "12/12 [==============================] - 0s 15ms/step - loss: 0.2482 - accuracy: 0.9818\n",
            "Epoch 50/80\n",
            "12/12 [==============================] - 0s 15ms/step - loss: 0.2260 - accuracy: 0.9844\n",
            "Epoch 51/80\n",
            "12/12 [==============================] - 0s 14ms/step - loss: 0.1950 - accuracy: 0.9870\n",
            "Epoch 52/80\n",
            "12/12 [==============================] - 0s 14ms/step - loss: 0.1863 - accuracy: 0.9870\n",
            "Epoch 53/80\n",
            "12/12 [==============================] - 0s 14ms/step - loss: 0.1745 - accuracy: 0.9844\n",
            "Epoch 54/80\n",
            "12/12 [==============================] - 0s 15ms/step - loss: 0.1581 - accuracy: 0.9870\n",
            "Epoch 55/80\n",
            "12/12 [==============================] - 0s 14ms/step - loss: 0.1443 - accuracy: 0.9844\n",
            "Epoch 56/80\n",
            "12/12 [==============================] - 0s 14ms/step - loss: 0.1342 - accuracy: 0.9870\n",
            "Epoch 57/80\n",
            "12/12 [==============================] - 0s 12ms/step - loss: 0.1249 - accuracy: 0.9896\n",
            "Epoch 58/80\n",
            "12/12 [==============================] - 0s 13ms/step - loss: 0.1204 - accuracy: 0.9896\n",
            "Epoch 59/80\n",
            "12/12 [==============================] - 0s 14ms/step - loss: 0.1127 - accuracy: 0.9870\n",
            "Epoch 60/80\n",
            "12/12 [==============================] - 0s 14ms/step - loss: 0.1030 - accuracy: 0.9896\n",
            "Epoch 61/80\n",
            "12/12 [==============================] - 0s 13ms/step - loss: 0.0987 - accuracy: 0.9922\n",
            "Epoch 62/80\n",
            "12/12 [==============================] - 0s 15ms/step - loss: 0.0970 - accuracy: 0.9896\n",
            "Epoch 63/80\n",
            "12/12 [==============================] - 0s 12ms/step - loss: 0.0933 - accuracy: 0.9896\n",
            "Epoch 64/80\n",
            "12/12 [==============================] - 0s 13ms/step - loss: 0.0892 - accuracy: 0.9844\n",
            "Epoch 65/80\n",
            "12/12 [==============================] - 0s 13ms/step - loss: 0.0836 - accuracy: 0.9896\n",
            "Epoch 66/80\n",
            "12/12 [==============================] - 0s 14ms/step - loss: 0.0775 - accuracy: 0.9896\n",
            "Epoch 67/80\n",
            "12/12 [==============================] - 0s 14ms/step - loss: 0.0695 - accuracy: 0.9922\n",
            "Epoch 68/80\n",
            "12/12 [==============================] - 0s 20ms/step - loss: 0.0654 - accuracy: 0.9948\n",
            "Epoch 69/80\n",
            "12/12 [==============================] - 0s 19ms/step - loss: 0.0624 - accuracy: 0.9922\n",
            "Epoch 70/80\n",
            "12/12 [==============================] - 0s 19ms/step - loss: 0.0584 - accuracy: 0.9896\n",
            "Epoch 71/80\n",
            "12/12 [==============================] - 0s 20ms/step - loss: 0.0580 - accuracy: 0.9948\n",
            "Epoch 72/80\n",
            "12/12 [==============================] - 0s 21ms/step - loss: 0.0539 - accuracy: 0.9948\n",
            "Epoch 73/80\n",
            "12/12 [==============================] - 0s 21ms/step - loss: 0.0519 - accuracy: 0.9948\n",
            "Epoch 74/80\n",
            "12/12 [==============================] - 0s 22ms/step - loss: 0.0532 - accuracy: 0.9896\n",
            "Epoch 75/80\n",
            "12/12 [==============================] - 0s 19ms/step - loss: 0.0535 - accuracy: 0.9922\n",
            "Epoch 76/80\n",
            "12/12 [==============================] - 0s 14ms/step - loss: 0.0568 - accuracy: 0.9870\n",
            "Epoch 77/80\n",
            "12/12 [==============================] - 0s 15ms/step - loss: 0.0545 - accuracy: 0.9896\n",
            "Epoch 78/80\n",
            "12/12 [==============================] - 0s 14ms/step - loss: 0.0474 - accuracy: 0.9922\n",
            "Epoch 79/80\n",
            "12/12 [==============================] - 0s 13ms/step - loss: 0.0457 - accuracy: 0.9922\n",
            "Epoch 80/80\n",
            "12/12 [==============================] - 0s 15ms/step - loss: 0.0421 - accuracy: 0.9922\n"
          ]
        }
      ]
    },
    {
      "cell_type": "code",
      "metadata": {
        "scrolled": false,
        "id": "K1jO9lYX7kny",
        "colab": {
          "base_uri": "https://localhost:8080/"
        },
        "outputId": "f34c23df-744b-44e3-9666-0986057a679c"
      },
      "source": [
        "# define model\n",
        "model = Sequential()\n",
        "model.add(LSTM(75, input_shape=(X.shape[1], X.shape[2])))\n",
        "model.add(Dense(vocab_size, activation='softmax'))\n",
        "print(model.summary())\n",
        "# compile model\n",
        "model.compile(loss='categorical_crossentropy', optimizer='adam', metrics=['accuracy'])\n",
        "# fit model\n",
        "history=model.fit(X, y, epochs=100)"
      ],
      "execution_count": null,
      "outputs": [
        {
          "output_type": "stream",
          "name": "stdout",
          "text": [
            "Model: \"sequential\"\n",
            "_________________________________________________________________\n",
            " Layer (type)                Output Shape              Param #   \n",
            "=================================================================\n",
            " lstm (LSTM)                 (None, 75)                34200     \n",
            "                                                                 \n",
            " dense (Dense)               (None, 38)                2888      \n",
            "                                                                 \n",
            "=================================================================\n",
            "Total params: 37088 (144.88 KB)\n",
            "Trainable params: 37088 (144.88 KB)\n",
            "Non-trainable params: 0 (0.00 Byte)\n",
            "_________________________________________________________________\n",
            "None\n",
            "Epoch 1/100\n",
            "12/12 [==============================] - 5s 16ms/step - loss: 3.6060 - accuracy: 0.1094\n",
            "Epoch 2/100\n",
            "12/12 [==============================] - 0s 14ms/step - loss: 3.4835 - accuracy: 0.1589\n",
            "Epoch 3/100\n",
            "12/12 [==============================] - 0s 14ms/step - loss: 3.2391 - accuracy: 0.1589\n",
            "Epoch 4/100\n",
            "12/12 [==============================] - 0s 16ms/step - loss: 3.1097 - accuracy: 0.1589\n",
            "Epoch 5/100\n",
            "12/12 [==============================] - 0s 18ms/step - loss: 3.0600 - accuracy: 0.1589\n",
            "Epoch 6/100\n",
            "12/12 [==============================] - 0s 15ms/step - loss: 3.0382 - accuracy: 0.1589\n",
            "Epoch 7/100\n",
            "12/12 [==============================] - 0s 13ms/step - loss: 3.0180 - accuracy: 0.1589\n",
            "Epoch 8/100\n",
            "12/12 [==============================] - 0s 12ms/step - loss: 3.0036 - accuracy: 0.1589\n",
            "Epoch 9/100\n",
            "12/12 [==============================] - 0s 14ms/step - loss: 2.9838 - accuracy: 0.1589\n",
            "Epoch 10/100\n",
            "12/12 [==============================] - 0s 17ms/step - loss: 2.9681 - accuracy: 0.1589\n",
            "Epoch 11/100\n",
            "12/12 [==============================] - 0s 13ms/step - loss: 2.9482 - accuracy: 0.1589\n",
            "Epoch 12/100\n",
            "12/12 [==============================] - 0s 13ms/step - loss: 2.9238 - accuracy: 0.1589\n",
            "Epoch 13/100\n",
            "12/12 [==============================] - 0s 18ms/step - loss: 2.9064 - accuracy: 0.1771\n",
            "Epoch 14/100\n",
            "12/12 [==============================] - 0s 15ms/step - loss: 2.8800 - accuracy: 0.1719\n",
            "Epoch 15/100\n",
            "12/12 [==============================] - 0s 16ms/step - loss: 2.8593 - accuracy: 0.1875\n",
            "Epoch 16/100\n",
            "12/12 [==============================] - 0s 13ms/step - loss: 2.8183 - accuracy: 0.1927\n",
            "Epoch 17/100\n",
            "12/12 [==============================] - 0s 13ms/step - loss: 2.7853 - accuracy: 0.2057\n",
            "Epoch 18/100\n",
            "12/12 [==============================] - 0s 19ms/step - loss: 2.7491 - accuracy: 0.2005\n",
            "Epoch 19/100\n",
            "12/12 [==============================] - 0s 13ms/step - loss: 2.7299 - accuracy: 0.2344\n",
            "Epoch 20/100\n",
            "12/12 [==============================] - 0s 13ms/step - loss: 2.6858 - accuracy: 0.2344\n",
            "Epoch 21/100\n",
            "12/12 [==============================] - 0s 19ms/step - loss: 2.6387 - accuracy: 0.2422\n",
            "Epoch 22/100\n",
            "12/12 [==============================] - 0s 14ms/step - loss: 2.6024 - accuracy: 0.2630\n",
            "Epoch 23/100\n",
            "12/12 [==============================] - 0s 14ms/step - loss: 2.5591 - accuracy: 0.2812\n",
            "Epoch 24/100\n",
            "12/12 [==============================] - 0s 17ms/step - loss: 2.5193 - accuracy: 0.3177\n",
            "Epoch 25/100\n",
            "12/12 [==============================] - 0s 15ms/step - loss: 2.4603 - accuracy: 0.3359\n",
            "Epoch 26/100\n",
            "12/12 [==============================] - 0s 16ms/step - loss: 2.4247 - accuracy: 0.3125\n",
            "Epoch 27/100\n",
            "12/12 [==============================] - 0s 15ms/step - loss: 2.3843 - accuracy: 0.3307\n",
            "Epoch 28/100\n",
            "12/12 [==============================] - 0s 13ms/step - loss: 2.3521 - accuracy: 0.3385\n",
            "Epoch 29/100\n",
            "12/12 [==============================] - 0s 15ms/step - loss: 2.2997 - accuracy: 0.3594\n",
            "Epoch 30/100\n",
            "12/12 [==============================] - 0s 13ms/step - loss: 2.2921 - accuracy: 0.3698\n",
            "Epoch 31/100\n",
            "12/12 [==============================] - 0s 21ms/step - loss: 2.2285 - accuracy: 0.3516\n",
            "Epoch 32/100\n",
            "12/12 [==============================] - 0s 19ms/step - loss: 2.1762 - accuracy: 0.3776\n",
            "Epoch 33/100\n",
            "12/12 [==============================] - 0s 17ms/step - loss: 2.1241 - accuracy: 0.4089\n",
            "Epoch 34/100\n",
            "12/12 [==============================] - 0s 16ms/step - loss: 2.0886 - accuracy: 0.4193\n",
            "Epoch 35/100\n",
            "12/12 [==============================] - 0s 15ms/step - loss: 2.0373 - accuracy: 0.4323\n",
            "Epoch 36/100\n",
            "12/12 [==============================] - 0s 15ms/step - loss: 2.0143 - accuracy: 0.4115\n",
            "Epoch 37/100\n",
            "12/12 [==============================] - 0s 14ms/step - loss: 2.0207 - accuracy: 0.4219\n",
            "Epoch 38/100\n",
            "12/12 [==============================] - 0s 13ms/step - loss: 1.9575 - accuracy: 0.4479\n",
            "Epoch 39/100\n",
            "12/12 [==============================] - 0s 13ms/step - loss: 1.9012 - accuracy: 0.4766\n",
            "Epoch 40/100\n",
            "12/12 [==============================] - 0s 13ms/step - loss: 1.8332 - accuracy: 0.4870\n",
            "Epoch 41/100\n",
            "12/12 [==============================] - 0s 22ms/step - loss: 1.7984 - accuracy: 0.4844\n",
            "Epoch 42/100\n",
            "12/12 [==============================] - 0s 19ms/step - loss: 1.7499 - accuracy: 0.5000\n",
            "Epoch 43/100\n",
            "12/12 [==============================] - 0s 17ms/step - loss: 1.6989 - accuracy: 0.5130\n",
            "Epoch 44/100\n",
            "12/12 [==============================] - 0s 25ms/step - loss: 1.6763 - accuracy: 0.5156\n",
            "Epoch 45/100\n",
            "12/12 [==============================] - 0s 23ms/step - loss: 1.6347 - accuracy: 0.5391\n",
            "Epoch 46/100\n",
            "12/12 [==============================] - 0s 25ms/step - loss: 1.5839 - accuracy: 0.5391\n",
            "Epoch 47/100\n",
            "12/12 [==============================] - 0s 24ms/step - loss: 1.5596 - accuracy: 0.5755\n",
            "Epoch 48/100\n",
            "12/12 [==============================] - 0s 25ms/step - loss: 1.5233 - accuracy: 0.5964\n",
            "Epoch 49/100\n",
            "12/12 [==============================] - 0s 21ms/step - loss: 1.4732 - accuracy: 0.6224\n",
            "Epoch 50/100\n",
            "12/12 [==============================] - 0s 22ms/step - loss: 1.4252 - accuracy: 0.6146\n",
            "Epoch 51/100\n",
            "12/12 [==============================] - 0s 20ms/step - loss: 1.3803 - accuracy: 0.6667\n",
            "Epoch 52/100\n",
            "12/12 [==============================] - 0s 20ms/step - loss: 1.3551 - accuracy: 0.6589\n",
            "Epoch 53/100\n",
            "12/12 [==============================] - 0s 20ms/step - loss: 1.3094 - accuracy: 0.6979\n",
            "Epoch 54/100\n",
            "12/12 [==============================] - 0s 20ms/step - loss: 1.2713 - accuracy: 0.7109\n",
            "Epoch 55/100\n",
            "12/12 [==============================] - 0s 25ms/step - loss: 1.2333 - accuracy: 0.7188\n",
            "Epoch 56/100\n",
            "12/12 [==============================] - 0s 22ms/step - loss: 1.1916 - accuracy: 0.7214\n",
            "Epoch 57/100\n",
            "12/12 [==============================] - 0s 13ms/step - loss: 1.1562 - accuracy: 0.7266\n",
            "Epoch 58/100\n",
            "12/12 [==============================] - 0s 17ms/step - loss: 1.1331 - accuracy: 0.7422\n",
            "Epoch 59/100\n",
            "12/12 [==============================] - 0s 17ms/step - loss: 1.0941 - accuracy: 0.7734\n",
            "Epoch 60/100\n",
            "12/12 [==============================] - 0s 13ms/step - loss: 1.0669 - accuracy: 0.7656\n",
            "Epoch 61/100\n",
            "12/12 [==============================] - 0s 16ms/step - loss: 1.0227 - accuracy: 0.7812\n",
            "Epoch 62/100\n",
            "12/12 [==============================] - 0s 14ms/step - loss: 1.0017 - accuracy: 0.7865\n",
            "Epoch 63/100\n",
            "12/12 [==============================] - 0s 15ms/step - loss: 0.9587 - accuracy: 0.8125\n",
            "Epoch 64/100\n",
            "12/12 [==============================] - 0s 14ms/step - loss: 0.9358 - accuracy: 0.8099\n",
            "Epoch 65/100\n",
            "12/12 [==============================] - 0s 18ms/step - loss: 0.9044 - accuracy: 0.8229\n",
            "Epoch 66/100\n",
            "12/12 [==============================] - 0s 17ms/step - loss: 0.8609 - accuracy: 0.8464\n",
            "Epoch 67/100\n",
            "12/12 [==============================] - 0s 19ms/step - loss: 0.8163 - accuracy: 0.8802\n",
            "Epoch 68/100\n",
            "12/12 [==============================] - 0s 18ms/step - loss: 0.7971 - accuracy: 0.8802\n",
            "Epoch 69/100\n",
            "12/12 [==============================] - 0s 14ms/step - loss: 0.7739 - accuracy: 0.8880\n",
            "Epoch 70/100\n",
            "12/12 [==============================] - 0s 17ms/step - loss: 0.7489 - accuracy: 0.8958\n",
            "Epoch 71/100\n",
            "12/12 [==============================] - 0s 13ms/step - loss: 0.7009 - accuracy: 0.9193\n",
            "Epoch 72/100\n",
            "12/12 [==============================] - 0s 12ms/step - loss: 0.6700 - accuracy: 0.9167\n",
            "Epoch 73/100\n",
            "12/12 [==============================] - 0s 12ms/step - loss: 0.6456 - accuracy: 0.9349\n",
            "Epoch 74/100\n",
            "12/12 [==============================] - 0s 16ms/step - loss: 0.6226 - accuracy: 0.9323\n",
            "Epoch 75/100\n",
            "12/12 [==============================] - 0s 13ms/step - loss: 0.6038 - accuracy: 0.9323\n",
            "Epoch 76/100\n",
            "12/12 [==============================] - 0s 14ms/step - loss: 0.5752 - accuracy: 0.9427\n",
            "Epoch 77/100\n",
            "12/12 [==============================] - 0s 8ms/step - loss: 0.5506 - accuracy: 0.9609\n",
            "Epoch 78/100\n",
            "12/12 [==============================] - 0s 8ms/step - loss: 0.5360 - accuracy: 0.9557\n",
            "Epoch 79/100\n",
            "12/12 [==============================] - 0s 8ms/step - loss: 0.5030 - accuracy: 0.9688\n",
            "Epoch 80/100\n",
            "12/12 [==============================] - 0s 8ms/step - loss: 0.4705 - accuracy: 0.9740\n",
            "Epoch 81/100\n",
            "12/12 [==============================] - 0s 8ms/step - loss: 0.4568 - accuracy: 0.9688\n",
            "Epoch 82/100\n",
            "12/12 [==============================] - 0s 9ms/step - loss: 0.4354 - accuracy: 0.9766\n",
            "Epoch 83/100\n",
            "12/12 [==============================] - 0s 8ms/step - loss: 0.4197 - accuracy: 0.9792\n",
            "Epoch 84/100\n",
            "12/12 [==============================] - 0s 8ms/step - loss: 0.4060 - accuracy: 0.9766\n",
            "Epoch 85/100\n",
            "12/12 [==============================] - 0s 8ms/step - loss: 0.3913 - accuracy: 0.9844\n",
            "Epoch 86/100\n",
            "12/12 [==============================] - 0s 8ms/step - loss: 0.3767 - accuracy: 0.9792\n",
            "Epoch 87/100\n",
            "12/12 [==============================] - 0s 8ms/step - loss: 0.3585 - accuracy: 0.9870\n",
            "Epoch 88/100\n",
            "12/12 [==============================] - 0s 8ms/step - loss: 0.3414 - accuracy: 0.9844\n",
            "Epoch 89/100\n",
            "12/12 [==============================] - 0s 8ms/step - loss: 0.3248 - accuracy: 0.9844\n",
            "Epoch 90/100\n",
            "12/12 [==============================] - 0s 8ms/step - loss: 0.3146 - accuracy: 0.9870\n",
            "Epoch 91/100\n",
            "12/12 [==============================] - 0s 8ms/step - loss: 0.2985 - accuracy: 0.9870\n",
            "Epoch 92/100\n",
            "12/12 [==============================] - 0s 8ms/step - loss: 0.2901 - accuracy: 0.9896\n",
            "Epoch 93/100\n",
            "12/12 [==============================] - 0s 8ms/step - loss: 0.2800 - accuracy: 0.9844\n",
            "Epoch 94/100\n",
            "12/12 [==============================] - 0s 8ms/step - loss: 0.2668 - accuracy: 0.9844\n",
            "Epoch 95/100\n",
            "12/12 [==============================] - 0s 9ms/step - loss: 0.2581 - accuracy: 0.9870\n",
            "Epoch 96/100\n",
            "12/12 [==============================] - 0s 8ms/step - loss: 0.2458 - accuracy: 0.9844\n",
            "Epoch 97/100\n",
            "12/12 [==============================] - 0s 7ms/step - loss: 0.2354 - accuracy: 0.9870\n",
            "Epoch 98/100\n",
            "12/12 [==============================] - 0s 8ms/step - loss: 0.2260 - accuracy: 0.9870\n",
            "Epoch 99/100\n",
            "12/12 [==============================] - 0s 8ms/step - loss: 0.2183 - accuracy: 0.9896\n",
            "Epoch 100/100\n",
            "12/12 [==============================] - 0s 8ms/step - loss: 0.2129 - accuracy: 0.9870\n"
          ]
        }
      ]
    },
    {
      "cell_type": "code",
      "metadata": {
        "id": "raAPR9Qp7kn1",
        "colab": {
          "base_uri": "https://localhost:8080/",
          "height": 0
        },
        "outputId": "0c3cf593-cc9c-425e-fd89-1a15c544ed50"
      },
      "source": [
        "# save the model to file\n",
        "model.save('model.h5')\n",
        "# save the mapping\n",
        "dump(mapping, open('mapping.pkl', 'wb'))"
      ],
      "execution_count": 13,
      "outputs": [
        {
          "output_type": "stream",
          "name": "stderr",
          "text": [
            "/usr/local/lib/python3.10/dist-packages/keras/src/engine/training.py:3079: UserWarning: You are saving your model as an HDF5 file via `model.save()`. This file format is considered legacy. We recommend using instead the native Keras format, e.g. `model.save('my_model.keras')`.\n",
            "  saving_api.save_model(\n"
          ]
        }
      ]
    },
    {
      "cell_type": "markdown",
      "metadata": {
        "id": "vv4Q4Rkf7kn4"
      },
      "source": [
        "# Generating Text"
      ]
    },
    {
      "cell_type": "markdown",
      "metadata": {
        "id": "EigunCf57kn6"
      },
      "source": [
        "We must provide sequences of 10 characters as input to the model in order to start the generation process. We will pick these manually. A given input sequence will need to be prepared in the same way as preparing the training data for the model."
      ]
    },
    {
      "cell_type": "code",
      "metadata": {
        "id": "6UCWctow7kn-"
      },
      "source": [
        "from pickle import load\n",
        "import numpy as np\n",
        "from keras.models import load_model\n",
        "from tensorflow.keras.utils import to_categorical\n",
        "from keras.preprocessing.sequence import pad_sequences\n",
        "\n",
        "# generate a sequence of characters with a language model\n",
        "def generate_seq(model, mapping, seq_length, seed_text, n_chars):\n",
        "    in_text = seed_text\n",
        "    # generate a fixed number of characters\n",
        "    for _ in range(n_chars):\n",
        "        # encode the characters as integers\n",
        "        encoded = [mapping[char] for char in in_text]\n",
        "        # truncate sequences to a fixed length\n",
        "        encoded = pad_sequences([encoded], maxlen=seq_length, truncating='pre')\n",
        "        # one hot encode\n",
        "        encoded = to_categorical(encoded, num_classes=len(mapping))\n",
        "        # predict character\n",
        "        yhat = np.argmax(model.predict(encoded), axis=-1)\n",
        "        # reverse map integer to character\n",
        "        out_char = ''\n",
        "        for char, index in mapping.items():\n",
        "            if index == yhat:\n",
        "                out_char = char\n",
        "                break\n",
        "        # append to input\n",
        "        in_text += char\n",
        "    return in_text\n",
        "\n",
        "# load the model\n",
        "model = load_model('model.h5')\n",
        "# load the mapping\n",
        "mapping = load(open('mapping.pkl', 'rb'))"
      ],
      "execution_count": 14,
      "outputs": []
    },
    {
      "cell_type": "markdown",
      "metadata": {
        "id": "PXn18EY57koA"
      },
      "source": [
        "Running the example generates three sequences of text.\n",
        "\n",
        "The first is a test to see how the model does at starting from the beginning of the rhyme. The second is a test to see how well it does at beginning in the middle of a line. The final example is a test to see how well it does with a sequence of characters never seen before."
      ]
    },
    {
      "cell_type": "code",
      "metadata": {
        "id": "5UhgrJYh7koB",
        "colab": {
          "base_uri": "https://localhost:8080/",
          "height": 0
        },
        "outputId": "2a416766-af16-4529-dfb7-9a399c7b3860"
      },
      "source": [
        "# test start of rhyme\n",
        "print(generate_seq(model, mapping, 10, 'Sing a son', 20))\n",
        "# test mid-line\n",
        "print(generate_seq(model, mapping, 10, 'king was i', 20))\n",
        "# test not in original\n",
        "print(generate_seq(model, mapping, 10, 'hello worl', 20))"
      ],
      "execution_count": 15,
      "outputs": [
        {
          "output_type": "stream",
          "name": "stdout",
          "text": [
            "1/1 [==============================] - 1s 543ms/step\n",
            "1/1 [==============================] - 0s 16ms/step\n",
            "1/1 [==============================] - 0s 16ms/step\n",
            "1/1 [==============================] - 0s 17ms/step\n",
            "1/1 [==============================] - 0s 18ms/step\n",
            "1/1 [==============================] - 0s 16ms/step\n",
            "1/1 [==============================] - 0s 16ms/step\n",
            "1/1 [==============================] - 0s 23ms/step\n",
            "1/1 [==============================] - 0s 28ms/step\n",
            "1/1 [==============================] - 0s 28ms/step\n",
            "1/1 [==============================] - 0s 22ms/step\n",
            "1/1 [==============================] - 0s 25ms/step\n",
            "1/1 [==============================] - 0s 26ms/step\n",
            "1/1 [==============================] - 0s 24ms/step\n",
            "1/1 [==============================] - 0s 23ms/step\n",
            "1/1 [==============================] - 0s 29ms/step\n",
            "1/1 [==============================] - 0s 26ms/step\n",
            "1/1 [==============================] - 0s 28ms/step\n",
            "1/1 [==============================] - 0s 27ms/step\n",
            "1/1 [==============================] - 0s 23ms/step\n",
            "Sing a song of sixpence,A pock\n",
            "1/1 [==============================] - 0s 27ms/step\n",
            "1/1 [==============================] - 0s 22ms/step\n",
            "1/1 [==============================] - 0s 24ms/step\n",
            "1/1 [==============================] - 0s 22ms/step\n",
            "1/1 [==============================] - 0s 23ms/step\n",
            "1/1 [==============================] - 0s 25ms/step\n",
            "1/1 [==============================] - 0s 25ms/step\n",
            "1/1 [==============================] - 0s 24ms/step\n",
            "1/1 [==============================] - 0s 26ms/step\n",
            "1/1 [==============================] - 0s 26ms/step\n",
            "1/1 [==============================] - 0s 24ms/step\n",
            "1/1 [==============================] - 0s 21ms/step\n",
            "1/1 [==============================] - 0s 15ms/step\n",
            "1/1 [==============================] - 0s 15ms/step\n",
            "1/1 [==============================] - 0s 15ms/step\n",
            "1/1 [==============================] - 0s 15ms/step\n",
            "1/1 [==============================] - 0s 20ms/step\n",
            "1/1 [==============================] - 0s 17ms/step\n",
            "1/1 [==============================] - 0s 19ms/step\n",
            "1/1 [==============================] - 0s 17ms/step\n",
            "king was in his counting house\n",
            "1/1 [==============================] - 0s 19ms/step\n",
            "1/1 [==============================] - 0s 20ms/step\n",
            "1/1 [==============================] - 0s 17ms/step\n",
            "1/1 [==============================] - 0s 21ms/step\n",
            "1/1 [==============================] - 0s 17ms/step\n",
            "1/1 [==============================] - 0s 18ms/step\n",
            "1/1 [==============================] - 0s 18ms/step\n",
            "1/1 [==============================] - 0s 19ms/step\n",
            "1/1 [==============================] - 0s 19ms/step\n",
            "1/1 [==============================] - 0s 17ms/step\n",
            "1/1 [==============================] - 0s 17ms/step\n",
            "1/1 [==============================] - 0s 17ms/step\n",
            "1/1 [==============================] - 0s 16ms/step\n",
            "1/1 [==============================] - 0s 18ms/step\n",
            "1/1 [==============================] - 0s 19ms/step\n",
            "1/1 [==============================] - 0s 18ms/step\n",
            "1/1 [==============================] - 0s 17ms/step\n",
            "1/1 [==============================] - 0s 19ms/step\n",
            "1/1 [==============================] - 0s 17ms/step\n",
            "1/1 [==============================] - 0s 18ms/step\n",
            "hello worl..Fn  ant ttirry lla\n"
          ]
        }
      ]
    },
    {
      "cell_type": "markdown",
      "metadata": {
        "id": "UXhN-xhG7koE"
      },
      "source": [
        "If the results aren't satisfactory, try out the suggestions above or these below:\n",
        "- Padding. Update the example to provides sequences line by line only and use padding to fill out each sequence to the maximum line length.\n",
        "- Sequence Length. Experiment with different sequence lengths and see how they impact the behavior of the model.\n",
        "- Tune Model. Experiment with different model configurations, such as the number of memory cells and epochs, and try to develop a better model for fewer resources.\n"
      ]
    },
    {
      "cell_type": "markdown",
      "metadata": {
        "id": "7kyXdm-f7koF"
      },
      "source": [
        "# Deliverables to receive credit\n",
        "\n",
        "1. (4 points) Optimize the cells above to tune the model so that it generates text that closely resembles the orginal line from the rhyme, or at least generates sensible words. It's okay if the third example using unseen text still looks somewhat strange  though. Again, this is a toy problem, as language models require a lot of computation. This toy problem is great for rapid experimentation to explore different aspects of deep learning language models.\n",
        "2. (3 points) Write a function to split the text corpus file into training and validation and pipe the validation data into the model.fit() function to be able to track validation error per epoch. Lookup Keras documentation to see how this is handled.\n",
        "3. (3 points) Write a summary (methods and results) in the cells below of the different things you applied. You must include your intuitions behind what did work and what did not work well.\n",
        "4. (Extra Credit 2.5 points) Do something even more interesting. Try a different source text. Train a word-level model. We'll leave it up to your creativity to explore and write a summary of your methods and results.\n"
      ]
    },
    {
      "cell_type": "code",
      "metadata": {
        "id": "njvIURzq7koG"
      },
      "source": [],
      "execution_count": null,
      "outputs": []
    },
    {
      "cell_type": "code",
      "metadata": {
        "id": "bh9kQZnr7koK",
        "colab": {
          "base_uri": "https://localhost:8080/",
          "height": 0
        },
        "outputId": "cc0a2b99-8c4c-41c8-da5f-33edc914037a"
      },
      "source": [
        "print(\"Summary\")"
      ],
      "execution_count": 16,
      "outputs": [
        {
          "output_type": "stream",
          "name": "stdout",
          "text": [
            "Summary\n"
          ]
        }
      ]
    },
    {
      "cell_type": "markdown",
      "source": [
        "I tried different combinations of hidden layers by changing the depth and different epochs. Adding another hidden layer doesn't seem to increase accuracy. Increasing the epochs allowed the model to train more, making the prediction better and thus increasing accuracy. However, having 100 epochs can lead to overfitting of the trained data so I experimented with changing this based on how well the model was able to perform given the data."
      ],
      "metadata": {
        "id": "IglZGjDI2j4E"
      }
    },
    {
      "cell_type": "code",
      "source": [
        "p=\"To be, or not to be, that is the question:\\\n",
        "Whether tis nobler in the mind to suffer\\\n",
        "The slings and arrows of outrageous fortune,\\\n",
        "Or to take arms against a sea of troubles\\\n",
        "And by opposing end them. To die—to sleep,\\\n",
        "No more; and by a sleep to say we end\\\n",
        "The heart-ache and the thousand natural shocks\\\n",
        "That flesh is heir to: 'tis a consummation\\\n",
        "Devoutly to be wish'd. To die, to sleep;\\\n",
        "To sleep, perchance to dream—ay, there's the rub:\\\n",
        "For in that sleep of death what dreams may come,\\\n",
        "When we have shuffled off this mortal coil,\\\n",
        "Must give us pause—there's the respect\\\n",
        "That makes calamity of so long life.\\\n",
        "For who would bear the whips and scorns of time,\\\n",
        "Th'oppressor's wrong, the proud man's contumely,\\\n",
        "The pangs of dispriz'd love, the law's delay,\\\n",
        "The insolence of office, and the spurns\\\n",
        "That patient merit of th'unworthy takes,\\\n",
        "When he himself might his quietus make\\\n",
        "With a bare bodkin? Who would fardels bear,\\\n",
        "To grunt and sweat under a weary life,\\\n",
        "But that the dread of something after death,\\\n",
        "The undiscovere'd country, from whose bourn\\\n",
        "No traveller returns, puzzles the will,\\\n",
        "And makes us rather bear those ills we have\\\n",
        "Than fly to others that we know not of?\\\n",
        "Thus conscience does make cowards of us all,\\\n",
        "And thus the native hue of resolution\\\n",
        "Is sicklied o'er with the pale cast of thought,\\\n",
        "And enterprises of great pitch and moment\\\n",
        "With this regard their currents turn awry\\\n",
        "And lose the name of action.\"\n",
        "\n",
        "with open('poem.txt','w') as b:\n",
        "  b.write(p)"
      ],
      "metadata": {
        "id": "r4EhkQLp3FiW"
      },
      "execution_count": 17,
      "outputs": []
    },
    {
      "cell_type": "code",
      "source": [
        "#load text\n",
        "raw_text1 = load_doc('poem.txt')\n",
        "print(raw_text1)\n",
        "\n",
        "# clean\n",
        "tokens1 = raw_text1.split()\n",
        "raw_text1 = ' '.join(tokens1)\n",
        "\n",
        "# organize into sequences of characters\n",
        "length = 10\n",
        "sequences = list()\n",
        "for i in range(length, len(raw_text1)):\n",
        "    # select sequence of tokens\n",
        "    seq = raw_text1[i-length:i+1]\n",
        "    # store\n",
        "    sequences.append(seq)\n",
        "print('Total Sequences: %d' % len(sequences))"
      ],
      "metadata": {
        "colab": {
          "base_uri": "https://localhost:8080/",
          "height": 0
        },
        "id": "eLGA1xpv3ND8",
        "outputId": "b85f15c5-a50f-489b-c5eb-342fcc6cdf33"
      },
      "execution_count": 18,
      "outputs": [
        {
          "output_type": "stream",
          "name": "stdout",
          "text": [
            "To be, or not to be, that is the question:Whether tis nobler in the mind to sufferThe slings and arrows of outrageous fortune,Or to take arms against a sea of troublesAnd by opposing end them. To die—to sleep,No more; and by a sleep to say we endThe heart-ache and the thousand natural shocksThat flesh is heir to: 'tis a consummationDevoutly to be wish'd. To die, to sleep;To sleep, perchance to dream—ay, there's the rub:For in that sleep of death what dreams may come,When we have shuffled off this mortal coil,Must give us pause—there's the respectThat makes calamity of so long life.For who would bear the whips and scorns of time,Th'oppressor's wrong, the proud man's contumely,The pangs of dispriz'd love, the law's delay,The insolence of office, and the spurnsThat patient merit of th'unworthy takes,When he himself might his quietus makeWith a bare bodkin? Who would fardels bear,To grunt and sweat under a weary life,But that the dread of something after death,The undiscovere'd country, from whose bournNo traveller returns, puzzles the will,And makes us rather bear those ills we haveThan fly to others that we know not of?Thus conscience does make cowards of us all,And thus the native hue of resolutionIs sicklied o'er with the pale cast of thought,And enterprises of great pitch and momentWith this regard their currents turn awryAnd lose the name of action.\n",
            "Total Sequences: 1363\n"
          ]
        }
      ]
    },
    {
      "cell_type": "code",
      "source": [
        "# save sequences to file\n",
        "out_filename1 = 'char_sequences1.txt'\n",
        "save_doc(sequences, out_filename1)"
      ],
      "metadata": {
        "id": "pqKhTsvO3Q2F"
      },
      "execution_count": 19,
      "outputs": []
    },
    {
      "cell_type": "code",
      "source": [
        "#splits data\n",
        "in_filename = 'char_sequences1.txt'\n",
        "raw_text1 = load_doc(in_filename)\n",
        "lines = raw_text1.split('\\n')"
      ],
      "metadata": {
        "id": "oDPq-wui3TPg"
      },
      "execution_count": 20,
      "outputs": []
    },
    {
      "cell_type": "code",
      "source": [
        "# integer encode sequences of characters\n",
        "chars = sorted(list(set(raw_text1)))\n",
        "mapping = dict((c, i) for i, c in enumerate(chars))\n",
        "sequences = list()\n",
        "for line in lines:\n",
        "    # integer encode line\n",
        "    encoded_seq = [mapping[char] for char in line]\n",
        "    # store\n",
        "    sequences.append(encoded_seq)\n",
        "\n",
        "# vocabulary size\n",
        "vocab_size = len(mapping)\n",
        "print('Vocabulary Size: %d' % vocab_size)\n",
        "\n",
        "# separate into input and output\n",
        "sequences = array(sequences)\n",
        "X, y = sequences[:,:-1], sequences[:,-1]\n",
        "sequences = [to_categorical(x, num_classes=vocab_size) for x in X]\n",
        "X = array(sequences)\n",
        "y = to_categorical(y, num_classes=vocab_size)"
      ],
      "metadata": {
        "colab": {
          "base_uri": "https://localhost:8080/",
          "height": 0
        },
        "id": "OqS5jvl73U3a",
        "outputId": "d3368265-87ce-4d91-ab5d-9909e42907de"
      },
      "execution_count": 21,
      "outputs": [
        {
          "output_type": "stream",
          "name": "stdout",
          "text": [
            "Vocabulary Size: 44\n"
          ]
        }
      ]
    },
    {
      "cell_type": "code",
      "source": [
        "model = Sequential()\n",
        "model.add(LSTM(200, input_shape=(X.shape[1], X.shape[2])))\n",
        "model.add(Dense(vocab_size, activation='softmax'))\n",
        "print(model.summary())\n",
        "# compile model\n",
        "model.compile(loss='categorical_crossentropy', optimizer='adam', metrics=['accuracy'])\n",
        "# fit model\n",
        "history=model.fit(X, y, validation_split = 0.3, epochs=100)"
      ],
      "metadata": {
        "colab": {
          "base_uri": "https://localhost:8080/",
          "height": 0
        },
        "id": "Q2yFl17j3YZi",
        "outputId": "417acc11-ff69-4721-de24-82242656f641"
      },
      "execution_count": 36,
      "outputs": [
        {
          "output_type": "stream",
          "name": "stdout",
          "text": [
            "Model: \"sequential_5\"\n",
            "_________________________________________________________________\n",
            " Layer (type)                Output Shape              Param #   \n",
            "=================================================================\n",
            " lstm_5 (LSTM)               (None, 200)               196000    \n",
            "                                                                 \n",
            " dense_4 (Dense)             (None, 44)                8844      \n",
            "                                                                 \n",
            "=================================================================\n",
            "Total params: 204844 (800.17 KB)\n",
            "Trainable params: 204844 (800.17 KB)\n",
            "Non-trainable params: 0 (0.00 Byte)\n",
            "_________________________________________________________________\n",
            "None\n",
            "Epoch 1/100\n",
            "30/30 [==============================] - 3s 45ms/step - loss: 3.4475 - accuracy: 0.1468 - val_loss: 3.1175 - val_accuracy: 0.1760\n",
            "Epoch 2/100\n",
            "30/30 [==============================] - 1s 27ms/step - loss: 3.0886 - accuracy: 0.1457 - val_loss: 3.0327 - val_accuracy: 0.1589\n",
            "Epoch 3/100\n",
            "30/30 [==============================] - 1s 18ms/step - loss: 3.0293 - accuracy: 0.1740 - val_loss: 3.0392 - val_accuracy: 0.1589\n",
            "Epoch 4/100\n",
            "30/30 [==============================] - 1s 18ms/step - loss: 3.0174 - accuracy: 0.1698 - val_loss: 3.0100 - val_accuracy: 0.1589\n",
            "Epoch 5/100\n",
            "30/30 [==============================] - 1s 18ms/step - loss: 2.9927 - accuracy: 0.1688 - val_loss: 2.9917 - val_accuracy: 0.1394\n",
            "Epoch 6/100\n",
            "30/30 [==============================] - 1s 21ms/step - loss: 2.9505 - accuracy: 0.1771 - val_loss: 2.9659 - val_accuracy: 0.1907\n",
            "Epoch 7/100\n",
            "30/30 [==============================] - 1s 20ms/step - loss: 2.9107 - accuracy: 0.1824 - val_loss: 2.9531 - val_accuracy: 0.1589\n",
            "Epoch 8/100\n",
            "30/30 [==============================] - 1s 18ms/step - loss: 2.8720 - accuracy: 0.2044 - val_loss: 2.8919 - val_accuracy: 0.2421\n",
            "Epoch 9/100\n",
            "30/30 [==============================] - 1s 21ms/step - loss: 2.7956 - accuracy: 0.2715 - val_loss: 2.8705 - val_accuracy: 0.2152\n",
            "Epoch 10/100\n",
            "30/30 [==============================] - 1s 19ms/step - loss: 2.7239 - accuracy: 0.2736 - val_loss: 2.8603 - val_accuracy: 0.2421\n",
            "Epoch 11/100\n",
            "30/30 [==============================] - 1s 19ms/step - loss: 2.6407 - accuracy: 0.2715 - val_loss: 2.8131 - val_accuracy: 0.2616\n",
            "Epoch 12/100\n",
            "30/30 [==============================] - 1s 17ms/step - loss: 2.5584 - accuracy: 0.2851 - val_loss: 2.7875 - val_accuracy: 0.2567\n",
            "Epoch 13/100\n",
            "30/30 [==============================] - 1s 18ms/step - loss: 2.4617 - accuracy: 0.3103 - val_loss: 2.7935 - val_accuracy: 0.2616\n",
            "Epoch 14/100\n",
            "30/30 [==============================] - 1s 18ms/step - loss: 2.3787 - accuracy: 0.3166 - val_loss: 2.7745 - val_accuracy: 0.2616\n",
            "Epoch 15/100\n",
            "30/30 [==============================] - 1s 17ms/step - loss: 2.3323 - accuracy: 0.3386 - val_loss: 2.7887 - val_accuracy: 0.2616\n",
            "Epoch 16/100\n",
            "30/30 [==============================] - 1s 18ms/step - loss: 2.2409 - accuracy: 0.3553 - val_loss: 2.8102 - val_accuracy: 0.2763\n",
            "Epoch 17/100\n",
            "30/30 [==============================] - 1s 18ms/step - loss: 2.1753 - accuracy: 0.3784 - val_loss: 2.8004 - val_accuracy: 0.2763\n",
            "Epoch 18/100\n",
            "30/30 [==============================] - 1s 21ms/step - loss: 2.0682 - accuracy: 0.3941 - val_loss: 2.7858 - val_accuracy: 0.2616\n",
            "Epoch 19/100\n",
            "30/30 [==============================] - 1s 20ms/step - loss: 2.0269 - accuracy: 0.4046 - val_loss: 2.8311 - val_accuracy: 0.2689\n",
            "Epoch 20/100\n",
            "30/30 [==============================] - 1s 24ms/step - loss: 1.9251 - accuracy: 0.4350 - val_loss: 2.9136 - val_accuracy: 0.2592\n",
            "Epoch 21/100\n",
            "30/30 [==============================] - 1s 30ms/step - loss: 1.8683 - accuracy: 0.4560 - val_loss: 2.9431 - val_accuracy: 0.2616\n",
            "Epoch 22/100\n",
            "30/30 [==============================] - 1s 24ms/step - loss: 1.7816 - accuracy: 0.4790 - val_loss: 2.9750 - val_accuracy: 0.2543\n",
            "Epoch 23/100\n",
            "30/30 [==============================] - 1s 20ms/step - loss: 1.6770 - accuracy: 0.5084 - val_loss: 2.9944 - val_accuracy: 0.2445\n",
            "Epoch 24/100\n",
            "30/30 [==============================] - 1s 20ms/step - loss: 1.6130 - accuracy: 0.5241 - val_loss: 3.0031 - val_accuracy: 0.2592\n",
            "Epoch 25/100\n",
            "30/30 [==============================] - 1s 18ms/step - loss: 1.5079 - accuracy: 0.5639 - val_loss: 3.1011 - val_accuracy: 0.2347\n",
            "Epoch 26/100\n",
            "30/30 [==============================] - 1s 22ms/step - loss: 1.4311 - accuracy: 0.5839 - val_loss: 3.1215 - val_accuracy: 0.2200\n",
            "Epoch 27/100\n",
            "30/30 [==============================] - 1s 19ms/step - loss: 1.3162 - accuracy: 0.6468 - val_loss: 3.1675 - val_accuracy: 0.2323\n",
            "Epoch 28/100\n",
            "30/30 [==============================] - 1s 17ms/step - loss: 1.2093 - accuracy: 0.6719 - val_loss: 3.2246 - val_accuracy: 0.2176\n",
            "Epoch 29/100\n",
            "30/30 [==============================] - 1s 21ms/step - loss: 1.1180 - accuracy: 0.7023 - val_loss: 3.2942 - val_accuracy: 0.2323\n",
            "Epoch 30/100\n",
            "30/30 [==============================] - 1s 19ms/step - loss: 1.0364 - accuracy: 0.7348 - val_loss: 3.2921 - val_accuracy: 0.2543\n",
            "Epoch 31/100\n",
            "30/30 [==============================] - 1s 18ms/step - loss: 0.9059 - accuracy: 0.7883 - val_loss: 3.4046 - val_accuracy: 0.2396\n",
            "Epoch 32/100\n",
            "30/30 [==============================] - 1s 21ms/step - loss: 0.7997 - accuracy: 0.8302 - val_loss: 3.4783 - val_accuracy: 0.2274\n",
            "Epoch 33/100\n",
            "30/30 [==============================] - 1s 21ms/step - loss: 0.7196 - accuracy: 0.8491 - val_loss: 3.5566 - val_accuracy: 0.1858\n",
            "Epoch 34/100\n",
            "30/30 [==============================] - 1s 18ms/step - loss: 0.6297 - accuracy: 0.8805 - val_loss: 3.6026 - val_accuracy: 0.2005\n",
            "Epoch 35/100\n",
            "30/30 [==============================] - 1s 19ms/step - loss: 0.5589 - accuracy: 0.9099 - val_loss: 3.6647 - val_accuracy: 0.2078\n",
            "Epoch 36/100\n",
            "30/30 [==============================] - 1s 18ms/step - loss: 0.4635 - accuracy: 0.9497 - val_loss: 3.7495 - val_accuracy: 0.2054\n",
            "Epoch 37/100\n",
            "30/30 [==============================] - 1s 18ms/step - loss: 0.3932 - accuracy: 0.9665 - val_loss: 3.8033 - val_accuracy: 0.1980\n",
            "Epoch 38/100\n",
            "30/30 [==============================] - 1s 18ms/step - loss: 0.3424 - accuracy: 0.9706 - val_loss: 3.8780 - val_accuracy: 0.2029\n",
            "Epoch 39/100\n",
            "30/30 [==============================] - 1s 23ms/step - loss: 0.2926 - accuracy: 0.9790 - val_loss: 3.9641 - val_accuracy: 0.1907\n",
            "Epoch 40/100\n",
            "30/30 [==============================] - 1s 29ms/step - loss: 0.2402 - accuracy: 0.9780 - val_loss: 3.9996 - val_accuracy: 0.1932\n",
            "Epoch 41/100\n",
            "30/30 [==============================] - 1s 27ms/step - loss: 0.2089 - accuracy: 0.9916 - val_loss: 4.0521 - val_accuracy: 0.2127\n",
            "Epoch 42/100\n",
            "30/30 [==============================] - 1s 17ms/step - loss: 0.1842 - accuracy: 0.9885 - val_loss: 4.0898 - val_accuracy: 0.1907\n",
            "Epoch 43/100\n",
            "30/30 [==============================] - 1s 20ms/step - loss: 0.1483 - accuracy: 0.9948 - val_loss: 4.1057 - val_accuracy: 0.1858\n",
            "Epoch 44/100\n",
            "30/30 [==============================] - 1s 17ms/step - loss: 0.1316 - accuracy: 0.9927 - val_loss: 4.1818 - val_accuracy: 0.2029\n",
            "Epoch 45/100\n",
            "30/30 [==============================] - 1s 17ms/step - loss: 0.1198 - accuracy: 0.9895 - val_loss: 4.2304 - val_accuracy: 0.1883\n",
            "Epoch 46/100\n",
            "30/30 [==============================] - 1s 19ms/step - loss: 0.1049 - accuracy: 0.9927 - val_loss: 4.2649 - val_accuracy: 0.2005\n",
            "Epoch 47/100\n",
            "30/30 [==============================] - 1s 18ms/step - loss: 0.0892 - accuracy: 0.9937 - val_loss: 4.3246 - val_accuracy: 0.1932\n",
            "Epoch 48/100\n",
            "30/30 [==============================] - 1s 18ms/step - loss: 0.0852 - accuracy: 0.9948 - val_loss: 4.3364 - val_accuracy: 0.1907\n",
            "Epoch 49/100\n",
            "30/30 [==============================] - 1s 18ms/step - loss: 0.0733 - accuracy: 0.9958 - val_loss: 4.3856 - val_accuracy: 0.1883\n",
            "Epoch 50/100\n",
            "30/30 [==============================] - 1s 22ms/step - loss: 0.0692 - accuracy: 0.9937 - val_loss: 4.4386 - val_accuracy: 0.1932\n",
            "Epoch 51/100\n",
            "30/30 [==============================] - 1s 17ms/step - loss: 0.0636 - accuracy: 0.9958 - val_loss: 4.4187 - val_accuracy: 0.2054\n",
            "Epoch 52/100\n",
            "30/30 [==============================] - 1s 17ms/step - loss: 0.0552 - accuracy: 0.9948 - val_loss: 4.4650 - val_accuracy: 0.1907\n",
            "Epoch 53/100\n",
            "30/30 [==============================] - 1s 18ms/step - loss: 0.0495 - accuracy: 0.9948 - val_loss: 4.5125 - val_accuracy: 0.2005\n",
            "Epoch 54/100\n",
            "30/30 [==============================] - 1s 21ms/step - loss: 0.0493 - accuracy: 0.9948 - val_loss: 4.5752 - val_accuracy: 0.1980\n",
            "Epoch 55/100\n",
            "30/30 [==============================] - 1s 20ms/step - loss: 0.0454 - accuracy: 0.9979 - val_loss: 4.5432 - val_accuracy: 0.2005\n",
            "Epoch 56/100\n",
            "30/30 [==============================] - 1s 18ms/step - loss: 0.0493 - accuracy: 0.9937 - val_loss: 4.5623 - val_accuracy: 0.1907\n",
            "Epoch 57/100\n",
            "30/30 [==============================] - 1s 19ms/step - loss: 0.0534 - accuracy: 0.9948 - val_loss: 4.6017 - val_accuracy: 0.2103\n",
            "Epoch 58/100\n",
            "30/30 [==============================] - 1s 19ms/step - loss: 0.0419 - accuracy: 0.9969 - val_loss: 4.6130 - val_accuracy: 0.1980\n",
            "Epoch 59/100\n",
            "30/30 [==============================] - 1s 25ms/step - loss: 0.0355 - accuracy: 0.9958 - val_loss: 4.6759 - val_accuracy: 0.2029\n",
            "Epoch 60/100\n",
            "30/30 [==============================] - 1s 30ms/step - loss: 0.0322 - accuracy: 0.9969 - val_loss: 4.6664 - val_accuracy: 0.2054\n",
            "Epoch 61/100\n",
            "30/30 [==============================] - 1s 23ms/step - loss: 0.0320 - accuracy: 0.9958 - val_loss: 4.7198 - val_accuracy: 0.1980\n",
            "Epoch 62/100\n",
            "30/30 [==============================] - 1s 19ms/step - loss: 0.0287 - accuracy: 0.9969 - val_loss: 4.7292 - val_accuracy: 0.1932\n",
            "Epoch 63/100\n",
            "30/30 [==============================] - 1s 20ms/step - loss: 0.0270 - accuracy: 0.9979 - val_loss: 4.7468 - val_accuracy: 0.1980\n",
            "Epoch 64/100\n",
            "30/30 [==============================] - 1s 19ms/step - loss: 0.0250 - accuracy: 0.9990 - val_loss: 4.7491 - val_accuracy: 0.2005\n",
            "Epoch 65/100\n",
            "30/30 [==============================] - 1s 19ms/step - loss: 0.0247 - accuracy: 0.9990 - val_loss: 4.8046 - val_accuracy: 0.1980\n",
            "Epoch 66/100\n",
            "30/30 [==============================] - 1s 22ms/step - loss: 0.0258 - accuracy: 0.9979 - val_loss: 4.7708 - val_accuracy: 0.1834\n",
            "Epoch 67/100\n",
            "30/30 [==============================] - 1s 17ms/step - loss: 0.0275 - accuracy: 0.9969 - val_loss: 4.8570 - val_accuracy: 0.1956\n",
            "Epoch 68/100\n",
            "30/30 [==============================] - 1s 19ms/step - loss: 0.0246 - accuracy: 0.9969 - val_loss: 4.8192 - val_accuracy: 0.2029\n",
            "Epoch 69/100\n",
            "30/30 [==============================] - 1s 19ms/step - loss: 0.0245 - accuracy: 0.9958 - val_loss: 4.8454 - val_accuracy: 0.1883\n",
            "Epoch 70/100\n",
            "30/30 [==============================] - 1s 21ms/step - loss: 0.0209 - accuracy: 0.9979 - val_loss: 4.8976 - val_accuracy: 0.1980\n",
            "Epoch 71/100\n",
            "30/30 [==============================] - 1s 19ms/step - loss: 0.0305 - accuracy: 0.9969 - val_loss: 4.8793 - val_accuracy: 0.1956\n",
            "Epoch 72/100\n",
            "30/30 [==============================] - 1s 19ms/step - loss: 0.0212 - accuracy: 0.9969 - val_loss: 4.8844 - val_accuracy: 0.1883\n",
            "Epoch 73/100\n",
            "30/30 [==============================] - 1s 20ms/step - loss: 0.0182 - accuracy: 0.9979 - val_loss: 4.9222 - val_accuracy: 0.1932\n",
            "Epoch 74/100\n",
            "30/30 [==============================] - 1s 21ms/step - loss: 0.0169 - accuracy: 0.9979 - val_loss: 4.9116 - val_accuracy: 0.1932\n",
            "Epoch 75/100\n",
            "30/30 [==============================] - 1s 21ms/step - loss: 0.0164 - accuracy: 0.9990 - val_loss: 4.9451 - val_accuracy: 0.1858\n",
            "Epoch 76/100\n",
            "30/30 [==============================] - 1s 18ms/step - loss: 0.0147 - accuracy: 0.9990 - val_loss: 4.9582 - val_accuracy: 0.1834\n",
            "Epoch 77/100\n",
            "30/30 [==============================] - 1s 17ms/step - loss: 0.0153 - accuracy: 0.9979 - val_loss: 4.9820 - val_accuracy: 0.1858\n",
            "Epoch 78/100\n",
            "30/30 [==============================] - 1s 22ms/step - loss: 0.0151 - accuracy: 0.9979 - val_loss: 5.0100 - val_accuracy: 0.1932\n",
            "Epoch 79/100\n",
            "30/30 [==============================] - 1s 30ms/step - loss: 0.0141 - accuracy: 0.9990 - val_loss: 5.0237 - val_accuracy: 0.2078\n",
            "Epoch 80/100\n",
            "30/30 [==============================] - 1s 27ms/step - loss: 0.0138 - accuracy: 0.9979 - val_loss: 5.0423 - val_accuracy: 0.1760\n",
            "Epoch 81/100\n",
            "30/30 [==============================] - 1s 17ms/step - loss: 0.0134 - accuracy: 0.9990 - val_loss: 5.0445 - val_accuracy: 0.1834\n",
            "Epoch 82/100\n",
            "30/30 [==============================] - 1s 19ms/step - loss: 0.0122 - accuracy: 0.9990 - val_loss: 5.0668 - val_accuracy: 0.1932\n",
            "Epoch 83/100\n",
            "30/30 [==============================] - 1s 19ms/step - loss: 0.0132 - accuracy: 0.9990 - val_loss: 5.0533 - val_accuracy: 0.1883\n",
            "Epoch 84/100\n",
            "30/30 [==============================] - 1s 21ms/step - loss: 0.0121 - accuracy: 0.9990 - val_loss: 5.1046 - val_accuracy: 0.1858\n",
            "Epoch 85/100\n",
            "30/30 [==============================] - 1s 18ms/step - loss: 0.0125 - accuracy: 0.9979 - val_loss: 5.0806 - val_accuracy: 0.1760\n",
            "Epoch 86/100\n",
            "30/30 [==============================] - 1s 21ms/step - loss: 0.0115 - accuracy: 0.9979 - val_loss: 5.1327 - val_accuracy: 0.1834\n",
            "Epoch 87/100\n",
            "30/30 [==============================] - 1s 20ms/step - loss: 0.0115 - accuracy: 0.9979 - val_loss: 5.1308 - val_accuracy: 0.1785\n",
            "Epoch 88/100\n",
            "30/30 [==============================] - 1s 17ms/step - loss: 0.0114 - accuracy: 0.9979 - val_loss: 5.1608 - val_accuracy: 0.1809\n",
            "Epoch 89/100\n",
            "30/30 [==============================] - 1s 19ms/step - loss: 0.0103 - accuracy: 0.9990 - val_loss: 5.1494 - val_accuracy: 0.1883\n",
            "Epoch 90/100\n",
            "30/30 [==============================] - 1s 20ms/step - loss: 0.0112 - accuracy: 0.9979 - val_loss: 5.1846 - val_accuracy: 0.1785\n",
            "Epoch 91/100\n",
            "30/30 [==============================] - 1s 17ms/step - loss: 0.0093 - accuracy: 0.9990 - val_loss: 5.1782 - val_accuracy: 0.1883\n",
            "Epoch 92/100\n",
            "30/30 [==============================] - 1s 18ms/step - loss: 0.0098 - accuracy: 0.9990 - val_loss: 5.2119 - val_accuracy: 0.1834\n",
            "Epoch 93/100\n",
            "30/30 [==============================] - 1s 20ms/step - loss: 0.0094 - accuracy: 0.9979 - val_loss: 5.2170 - val_accuracy: 0.1834\n",
            "Epoch 94/100\n",
            "30/30 [==============================] - 1s 19ms/step - loss: 0.0093 - accuracy: 0.9990 - val_loss: 5.2162 - val_accuracy: 0.1907\n",
            "Epoch 95/100\n",
            "30/30 [==============================] - 1s 20ms/step - loss: 0.0095 - accuracy: 0.9990 - val_loss: 5.2524 - val_accuracy: 0.1785\n",
            "Epoch 96/100\n",
            "30/30 [==============================] - 1s 21ms/step - loss: 0.0077 - accuracy: 1.0000 - val_loss: 5.2152 - val_accuracy: 0.1809\n",
            "Epoch 97/100\n",
            "30/30 [==============================] - 1s 17ms/step - loss: 0.0099 - accuracy: 0.9979 - val_loss: 5.2567 - val_accuracy: 0.1785\n",
            "Epoch 98/100\n",
            "30/30 [==============================] - 1s 28ms/step - loss: 0.0092 - accuracy: 0.9979 - val_loss: 5.2755 - val_accuracy: 0.1687\n",
            "Epoch 99/100\n",
            "30/30 [==============================] - 1s 30ms/step - loss: 0.0080 - accuracy: 0.9990 - val_loss: 5.2864 - val_accuracy: 0.1907\n",
            "Epoch 100/100\n",
            "30/30 [==============================] - 1s 22ms/step - loss: 0.0087 - accuracy: 0.9990 - val_loss: 5.2775 - val_accuracy: 0.1834\n"
          ]
        }
      ]
    },
    {
      "cell_type": "code",
      "source": [
        "# save the model to file\n",
        "model.save('model1.h5')\n",
        "# save the mapping\n",
        "dump(mapping, open('mapping1.pkl', 'wb'))"
      ],
      "metadata": {
        "id": "6hYS8uhV3bH8"
      },
      "execution_count": 37,
      "outputs": []
    },
    {
      "cell_type": "code",
      "source": [
        "# load the model\n",
        "model = load_model('model1.h5')\n",
        "# load the mapping\n",
        "mapping = load(open('mapping1.pkl', 'rb'))"
      ],
      "metadata": {
        "id": "2T_Yii5H3tKx"
      },
      "execution_count": 38,
      "outputs": []
    },
    {
      "cell_type": "code",
      "source": [
        "# test start of rhyme\n",
        "print(generate_seq(model, mapping, 10, 'To be or', 20))\n",
        "# test mid-line\n",
        "print(generate_seq(model, mapping, 10, 'Must give us', 20))\n",
        "# test not in original\n",
        "print(generate_seq(model, mapping, 10, 'hello worl', 20))"
      ],
      "metadata": {
        "colab": {
          "base_uri": "https://localhost:8080/",
          "height": 0
        },
        "id": "zyr0rqWo3uw1",
        "outputId": "7d56f5a7-9fb0-4da6-d9d7-9ed2c66539bb"
      },
      "execution_count": 39,
      "outputs": [
        {
          "output_type": "stream",
          "name": "stdout",
          "text": [
            "1/1 [==============================] - 0s 286ms/step\n",
            "1/1 [==============================] - 0s 16ms/step\n",
            "1/1 [==============================] - 0s 17ms/step\n",
            "1/1 [==============================] - 0s 17ms/step\n",
            "1/1 [==============================] - 0s 16ms/step\n",
            "1/1 [==============================] - 0s 19ms/step\n",
            "1/1 [==============================] - 0s 18ms/step\n",
            "1/1 [==============================] - 0s 18ms/step\n",
            "1/1 [==============================] - 0s 16ms/step\n",
            "1/1 [==============================] - 0s 16ms/step\n",
            "1/1 [==============================] - 0s 16ms/step\n",
            "1/1 [==============================] - 0s 16ms/step\n",
            "1/1 [==============================] - 0s 18ms/step\n",
            "1/1 [==============================] - 0s 17ms/step\n",
            "1/1 [==============================] - 0s 16ms/step\n",
            "1/1 [==============================] - 0s 17ms/step\n",
            "1/1 [==============================] - 0s 22ms/step\n",
            "1/1 [==============================] - 0s 19ms/step\n",
            "1/1 [==============================] - 0s 16ms/step\n",
            "1/1 [==============================] - 0s 18ms/step\n",
            "To be or nnd  w  aatu d baks\n",
            "1/1 [==============================] - 0s 19ms/step\n",
            "1/1 [==============================] - 0s 28ms/step\n",
            "1/1 [==============================] - 0s 16ms/step\n",
            "1/1 [==============================] - 0s 17ms/step\n",
            "1/1 [==============================] - 0s 17ms/step\n",
            "1/1 [==============================] - 0s 20ms/step\n",
            "1/1 [==============================] - 0s 20ms/step\n",
            "1/1 [==============================] - 0s 16ms/step\n",
            "1/1 [==============================] - 0s 16ms/step\n",
            "1/1 [==============================] - 0s 16ms/step\n",
            "1/1 [==============================] - 0s 19ms/step\n",
            "1/1 [==============================] - 0s 17ms/step\n",
            "1/1 [==============================] - 0s 15ms/step\n",
            "1/1 [==============================] - 0s 17ms/step\n",
            "1/1 [==============================] - 0s 17ms/step\n",
            "1/1 [==============================] - 0s 18ms/step\n",
            "1/1 [==============================] - 0s 16ms/step\n",
            "1/1 [==============================] - 0s 16ms/step\n",
            "1/1 [==============================] - 0s 16ms/step\n",
            "1/1 [==============================] - 0s 17ms/step\n",
            "Must give us pause—there's the r\n",
            "1/1 [==============================] - 0s 18ms/step\n",
            "1/1 [==============================] - 0s 23ms/step\n",
            "1/1 [==============================] - 0s 17ms/step\n",
            "1/1 [==============================] - 0s 18ms/step\n",
            "1/1 [==============================] - 0s 17ms/step\n",
            "1/1 [==============================] - 0s 21ms/step\n",
            "1/1 [==============================] - 0s 20ms/step\n",
            "1/1 [==============================] - 0s 17ms/step\n",
            "1/1 [==============================] - 0s 19ms/step\n",
            "1/1 [==============================] - 0s 18ms/step\n",
            "1/1 [==============================] - 0s 20ms/step\n",
            "1/1 [==============================] - 0s 18ms/step\n",
            "1/1 [==============================] - 0s 18ms/step\n",
            "1/1 [==============================] - 0s 16ms/step\n",
            "1/1 [==============================] - 0s 16ms/step\n",
            "1/1 [==============================] - 0s 16ms/step\n",
            "1/1 [==============================] - 0s 18ms/step\n",
            "1/1 [==============================] - 0s 16ms/step\n",
            "1/1 [==============================] - 0s 16ms/step\n",
            "1/1 [==============================] - 0s 21ms/step\n",
            "hello worlflee, bhehh iis to t\n"
          ]
        }
      ]
    },
    {
      "cell_type": "code",
      "source": [
        "print(\"Summary\")"
      ],
      "metadata": {
        "colab": {
          "base_uri": "https://localhost:8080/",
          "height": 0
        },
        "id": "STkpTflB3wzM",
        "outputId": "0565e5bd-16be-41fb-c467-767d93eb0747"
      },
      "execution_count": 31,
      "outputs": [
        {
          "output_type": "stream",
          "name": "stdout",
          "text": [
            "Summary\n"
          ]
        }
      ]
    },
    {
      "cell_type": "markdown",
      "source": [
        "I tried using the famous Hamlet poem for this nueral network training model. Because of its length, it can take longer to generate a trained model so I decreased the epochs from 200 to 100 to 50 but decided to stick with 100. 200 epochs does improve the data and is able to predict the next words in the sentence better then an epoch with 50 or 100 but takes a considerable amount more time so it doesn't seem practical to keep.\n",
        "\n"
      ],
      "metadata": {
        "id": "1jvGFtT24ACl"
      }
    },
    {
      "cell_type": "code",
      "source": [],
      "metadata": {
        "id": "aAahCu9Z3-jo"
      },
      "execution_count": null,
      "outputs": []
    }
  ]
}